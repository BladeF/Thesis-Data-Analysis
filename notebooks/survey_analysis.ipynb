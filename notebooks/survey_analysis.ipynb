{
 "cells": [
  {
   "cell_type": "code",
   "execution_count": 1,
   "metadata": {},
   "outputs": [],
   "source": [
    "import numpy as np\n",
    "from scipy import stats\n",
    "import pandas as pd\n",
    "import matplotlib.pyplot as plt\n",
    "import seaborn as sns\n",
    "\n",
    "pd.set_option('display.max_columns', 500)\n",
    "sns.set(style=\"darkgrid\")\n",
    "\n",
    "tf_color = {True: \"green\", False: \"red\"}\n",
    "type_color = {\"I\": \"red\", \"S\": \"blue\", \"F\": \"yellow\", \"C\": \"green\"}"
   ]
  },
  {
   "cell_type": "markdown",
   "metadata": {},
   "source": [
    "# Survey Data #"
   ]
  },
  {
   "cell_type": "code",
   "execution_count": null,
   "metadata": {},
   "outputs": [],
   "source": [
    "survey_data = pd.read_csv('../data/processed/survey_data.csv')\n",
    "survey_data"
   ]
  },
  {
   "cell_type": "code",
   "execution_count": null,
   "metadata": {},
   "outputs": [],
   "source": [
    "survey_data[[\"num_items_impact_scale\", \"num_items_thoughts_scale\", \"expression_scale\", \"request_scale\", \"converse_scale\"]].describe()"
   ]
  },
  {
   "cell_type": "code",
   "execution_count": null,
   "metadata": {},
   "outputs": [],
   "source": [
    "small_df = survey_data[survey_data[\"screen_size\"] == \"Small\"]\n",
    "med_df   = survey_data[survey_data[\"screen_size\"] == \"Medium\"]\n",
    "large_df = survey_data[survey_data[\"screen_size\"] == \"Large\"]"
   ]
  },
  {
   "cell_type": "code",
   "execution_count": null,
   "metadata": {},
   "outputs": [],
   "source": [
    "# https://www.ncbi.nlm.nih.gov/pmc/articles/PMC3886444/\n",
    "\n",
    "for col in [\"num_items_impact_scale\", \"num_items_thoughts_scale\", \"expression_scale\", \"request_scale\", \"converse_scale\"]:\n",
    "    print(\"Column:\", col)\n",
    "    print(\"\\tSmall v Med:\", stats.mannwhitneyu(small_df[col], med_df[col]))\n",
    "    print(\"\\tSmall v Large:\", stats.mannwhitneyu(small_df[col], large_df[col]))\n",
    "    print(\"\\tMed v Large:\", stats.mannwhitneyu(med_df[col], large_df[col]))"
   ]
  }
 ],
 "metadata": {
  "kernelspec": {
   "display_name": "Python 3",
   "language": "python",
   "name": "python3"
  },
  "language_info": {
   "codemirror_mode": {
    "name": "ipython",
    "version": 3
   },
   "file_extension": ".py",
   "mimetype": "text/x-python",
   "name": "python",
   "nbconvert_exporter": "python",
   "pygments_lexer": "ipython3",
   "version": "3.8.3"
  }
 },
 "nbformat": 4,
 "nbformat_minor": 4
}
