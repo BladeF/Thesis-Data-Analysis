{
 "cells": [
  {
   "cell_type": "code",
   "execution_count": 1,
   "metadata": {},
   "outputs": [],
   "source": [
    "import numpy as np\n",
    "from scipy import stats\n",
    "import pandas as pd\n",
    "import matplotlib.pyplot as plt\n",
    "import seaborn as sns\n",
    "import statsmodels.api as sm\n",
    "\n",
    "pd.set_option('display.max_columns', 500)\n",
    "sns.set(style=\"darkgrid\")\n",
    "\n",
    "tf_color = {True: \"green\", False: \"red\"}\n",
    "type_color = {\"I\": \"red\", \"S\": \"blue\", \"F\": \"yellow\", \"C\": \"green\"}"
   ]
  },
  {
   "cell_type": "markdown",
   "metadata": {},
   "source": [
    "# Task Data #\n",
    "\n",
    "The task data is parsed first."
   ]
  },
  {
   "cell_type": "code",
   "execution_count": 2,
   "metadata": {},
   "outputs": [
    {
     "data": {
      "text/html": [
       "<div>\n",
       "<style scoped>\n",
       "    .dataframe tbody tr th:only-of-type {\n",
       "        vertical-align: middle;\n",
       "    }\n",
       "\n",
       "    .dataframe tbody tr th {\n",
       "        vertical-align: top;\n",
       "    }\n",
       "\n",
       "    .dataframe thead th {\n",
       "        text-align: right;\n",
       "    }\n",
       "</style>\n",
       "<table border=\"1\" class=\"dataframe\">\n",
       "  <thead>\n",
       "    <tr style=\"text-align: right;\">\n",
       "      <th></th>\n",
       "      <th>p_number</th>\n",
       "      <th>major</th>\n",
       "      <th>screen_size</th>\n",
       "      <th>t1_type</th>\n",
       "      <th>t1_isSuccess</th>\n",
       "      <th>t1_numWords</th>\n",
       "      <th>t2_type</th>\n",
       "      <th>t2_isSuccess</th>\n",
       "      <th>t2_numWords</th>\n",
       "      <th>t3_type</th>\n",
       "      <th>t3_isSuccess</th>\n",
       "      <th>t3_numWords</th>\n",
       "      <th>t4_type</th>\n",
       "      <th>t4_isSuccess</th>\n",
       "      <th>t4_numWords</th>\n",
       "      <th>t5_type</th>\n",
       "      <th>t5_isSuccess</th>\n",
       "      <th>t5_numWords</th>\n",
       "      <th>t6_type</th>\n",
       "      <th>t6_isSuccess</th>\n",
       "      <th>t6_numWords</th>\n",
       "      <th>t7_type</th>\n",
       "      <th>t7_isSuccess</th>\n",
       "      <th>t7_numWords</th>\n",
       "      <th>t8_type</th>\n",
       "      <th>t8_isSuccess</th>\n",
       "      <th>t8_numWords</th>\n",
       "      <th>t9_type</th>\n",
       "      <th>t9_isSuccess</th>\n",
       "      <th>t9_numWords</th>\n",
       "      <th>t10_type</th>\n",
       "      <th>t10_isSuccess</th>\n",
       "      <th>t10_numWords</th>\n",
       "    </tr>\n",
       "  </thead>\n",
       "  <tbody>\n",
       "    <tr>\n",
       "      <th>0</th>\n",
       "      <td>1</td>\n",
       "      <td>Education</td>\n",
       "      <td>Small</td>\n",
       "      <td>C</td>\n",
       "      <td>True</td>\n",
       "      <td>6</td>\n",
       "      <td>F</td>\n",
       "      <td>True</td>\n",
       "      <td>4</td>\n",
       "      <td>F</td>\n",
       "      <td>True</td>\n",
       "      <td>4</td>\n",
       "      <td>C</td>\n",
       "      <td>True</td>\n",
       "      <td>5</td>\n",
       "      <td>C</td>\n",
       "      <td>True</td>\n",
       "      <td>3</td>\n",
       "      <td>C</td>\n",
       "      <td>True</td>\n",
       "      <td>6</td>\n",
       "      <td>C</td>\n",
       "      <td>True</td>\n",
       "      <td>4</td>\n",
       "      <td>C</td>\n",
       "      <td>True</td>\n",
       "      <td>2</td>\n",
       "      <td>C</td>\n",
       "      <td>True</td>\n",
       "      <td>11</td>\n",
       "      <td>F</td>\n",
       "      <td>True</td>\n",
       "      <td>2</td>\n",
       "    </tr>\n",
       "    <tr>\n",
       "      <th>1</th>\n",
       "      <td>2</td>\n",
       "      <td>Computer Science</td>\n",
       "      <td>Medium</td>\n",
       "      <td>C</td>\n",
       "      <td>True</td>\n",
       "      <td>7</td>\n",
       "      <td>C</td>\n",
       "      <td>True</td>\n",
       "      <td>7</td>\n",
       "      <td>C</td>\n",
       "      <td>True</td>\n",
       "      <td>5</td>\n",
       "      <td>C</td>\n",
       "      <td>True</td>\n",
       "      <td>6</td>\n",
       "      <td>C</td>\n",
       "      <td>True</td>\n",
       "      <td>9</td>\n",
       "      <td>C</td>\n",
       "      <td>True</td>\n",
       "      <td>6</td>\n",
       "      <td>C</td>\n",
       "      <td>True</td>\n",
       "      <td>5</td>\n",
       "      <td>C</td>\n",
       "      <td>True</td>\n",
       "      <td>3</td>\n",
       "      <td>C</td>\n",
       "      <td>False</td>\n",
       "      <td>2</td>\n",
       "      <td>C</td>\n",
       "      <td>True</td>\n",
       "      <td>7</td>\n",
       "    </tr>\n",
       "    <tr>\n",
       "      <th>2</th>\n",
       "      <td>3</td>\n",
       "      <td>Education</td>\n",
       "      <td>Large</td>\n",
       "      <td>F</td>\n",
       "      <td>True</td>\n",
       "      <td>3</td>\n",
       "      <td>F</td>\n",
       "      <td>True</td>\n",
       "      <td>4</td>\n",
       "      <td>F</td>\n",
       "      <td>True</td>\n",
       "      <td>4</td>\n",
       "      <td>C</td>\n",
       "      <td>True</td>\n",
       "      <td>7</td>\n",
       "      <td>F</td>\n",
       "      <td>True</td>\n",
       "      <td>2</td>\n",
       "      <td>F</td>\n",
       "      <td>True</td>\n",
       "      <td>4</td>\n",
       "      <td>C</td>\n",
       "      <td>True</td>\n",
       "      <td>3</td>\n",
       "      <td>C</td>\n",
       "      <td>True</td>\n",
       "      <td>2</td>\n",
       "      <td>F</td>\n",
       "      <td>True</td>\n",
       "      <td>8</td>\n",
       "      <td>C</td>\n",
       "      <td>True</td>\n",
       "      <td>3</td>\n",
       "    </tr>\n",
       "    <tr>\n",
       "      <th>3</th>\n",
       "      <td>4</td>\n",
       "      <td>Education</td>\n",
       "      <td>Small</td>\n",
       "      <td>C</td>\n",
       "      <td>True</td>\n",
       "      <td>3</td>\n",
       "      <td>C</td>\n",
       "      <td>True</td>\n",
       "      <td>6</td>\n",
       "      <td>C</td>\n",
       "      <td>True</td>\n",
       "      <td>5</td>\n",
       "      <td>C</td>\n",
       "      <td>True</td>\n",
       "      <td>6</td>\n",
       "      <td>C</td>\n",
       "      <td>True</td>\n",
       "      <td>3</td>\n",
       "      <td>S</td>\n",
       "      <td>False</td>\n",
       "      <td>1</td>\n",
       "      <td>S</td>\n",
       "      <td>True</td>\n",
       "      <td>1</td>\n",
       "      <td>F</td>\n",
       "      <td>True</td>\n",
       "      <td>2</td>\n",
       "      <td>I</td>\n",
       "      <td>False</td>\n",
       "      <td>0</td>\n",
       "      <td>C</td>\n",
       "      <td>True</td>\n",
       "      <td>3</td>\n",
       "    </tr>\n",
       "    <tr>\n",
       "      <th>4</th>\n",
       "      <td>5</td>\n",
       "      <td>Education</td>\n",
       "      <td>Medium</td>\n",
       "      <td>C</td>\n",
       "      <td>True</td>\n",
       "      <td>4</td>\n",
       "      <td>F</td>\n",
       "      <td>True</td>\n",
       "      <td>4</td>\n",
       "      <td>F</td>\n",
       "      <td>True</td>\n",
       "      <td>5</td>\n",
       "      <td>C</td>\n",
       "      <td>True</td>\n",
       "      <td>6</td>\n",
       "      <td>C</td>\n",
       "      <td>True</td>\n",
       "      <td>6</td>\n",
       "      <td>C</td>\n",
       "      <td>True</td>\n",
       "      <td>6</td>\n",
       "      <td>S</td>\n",
       "      <td>True</td>\n",
       "      <td>1</td>\n",
       "      <td>C</td>\n",
       "      <td>True</td>\n",
       "      <td>4</td>\n",
       "      <td>C</td>\n",
       "      <td>False</td>\n",
       "      <td>5</td>\n",
       "      <td>F</td>\n",
       "      <td>True</td>\n",
       "      <td>3</td>\n",
       "    </tr>\n",
       "    <tr>\n",
       "      <th>5</th>\n",
       "      <td>6</td>\n",
       "      <td>Computer Science</td>\n",
       "      <td>Large</td>\n",
       "      <td>F</td>\n",
       "      <td>True</td>\n",
       "      <td>6</td>\n",
       "      <td>C</td>\n",
       "      <td>True</td>\n",
       "      <td>5</td>\n",
       "      <td>F</td>\n",
       "      <td>True</td>\n",
       "      <td>4</td>\n",
       "      <td>F</td>\n",
       "      <td>True</td>\n",
       "      <td>5</td>\n",
       "      <td>F</td>\n",
       "      <td>True</td>\n",
       "      <td>6</td>\n",
       "      <td>F</td>\n",
       "      <td>True</td>\n",
       "      <td>6</td>\n",
       "      <td>F</td>\n",
       "      <td>True</td>\n",
       "      <td>6</td>\n",
       "      <td>C</td>\n",
       "      <td>True</td>\n",
       "      <td>2</td>\n",
       "      <td>C</td>\n",
       "      <td>True</td>\n",
       "      <td>2</td>\n",
       "      <td>F</td>\n",
       "      <td>True</td>\n",
       "      <td>8</td>\n",
       "    </tr>\n",
       "    <tr>\n",
       "      <th>6</th>\n",
       "      <td>7</td>\n",
       "      <td>Education</td>\n",
       "      <td>Small</td>\n",
       "      <td>F</td>\n",
       "      <td>True</td>\n",
       "      <td>3</td>\n",
       "      <td>F</td>\n",
       "      <td>True</td>\n",
       "      <td>4</td>\n",
       "      <td>C</td>\n",
       "      <td>True</td>\n",
       "      <td>5</td>\n",
       "      <td>C</td>\n",
       "      <td>True</td>\n",
       "      <td>6</td>\n",
       "      <td>C</td>\n",
       "      <td>True</td>\n",
       "      <td>7</td>\n",
       "      <td>C</td>\n",
       "      <td>True</td>\n",
       "      <td>6</td>\n",
       "      <td>C</td>\n",
       "      <td>True</td>\n",
       "      <td>6</td>\n",
       "      <td>C</td>\n",
       "      <td>True</td>\n",
       "      <td>2</td>\n",
       "      <td>C</td>\n",
       "      <td>True</td>\n",
       "      <td>13</td>\n",
       "      <td>F</td>\n",
       "      <td>True</td>\n",
       "      <td>5</td>\n",
       "    </tr>\n",
       "    <tr>\n",
       "      <th>7</th>\n",
       "      <td>8</td>\n",
       "      <td>Computer Science</td>\n",
       "      <td>Medium</td>\n",
       "      <td>F</td>\n",
       "      <td>True</td>\n",
       "      <td>4</td>\n",
       "      <td>F</td>\n",
       "      <td>True</td>\n",
       "      <td>3</td>\n",
       "      <td>F</td>\n",
       "      <td>True</td>\n",
       "      <td>2</td>\n",
       "      <td>F</td>\n",
       "      <td>True</td>\n",
       "      <td>8</td>\n",
       "      <td>C</td>\n",
       "      <td>True</td>\n",
       "      <td>7</td>\n",
       "      <td>F</td>\n",
       "      <td>True</td>\n",
       "      <td>5</td>\n",
       "      <td>F</td>\n",
       "      <td>True</td>\n",
       "      <td>5</td>\n",
       "      <td>C</td>\n",
       "      <td>True</td>\n",
       "      <td>2</td>\n",
       "      <td>F</td>\n",
       "      <td>True</td>\n",
       "      <td>11</td>\n",
       "      <td>F</td>\n",
       "      <td>True</td>\n",
       "      <td>6</td>\n",
       "    </tr>\n",
       "    <tr>\n",
       "      <th>8</th>\n",
       "      <td>9</td>\n",
       "      <td>Computer Science</td>\n",
       "      <td>Large</td>\n",
       "      <td>C</td>\n",
       "      <td>True</td>\n",
       "      <td>6</td>\n",
       "      <td>C</td>\n",
       "      <td>True</td>\n",
       "      <td>6</td>\n",
       "      <td>C</td>\n",
       "      <td>True</td>\n",
       "      <td>4</td>\n",
       "      <td>F</td>\n",
       "      <td>True</td>\n",
       "      <td>5</td>\n",
       "      <td>C</td>\n",
       "      <td>True</td>\n",
       "      <td>4</td>\n",
       "      <td>C</td>\n",
       "      <td>True</td>\n",
       "      <td>7</td>\n",
       "      <td>C</td>\n",
       "      <td>True</td>\n",
       "      <td>4</td>\n",
       "      <td>C</td>\n",
       "      <td>True</td>\n",
       "      <td>5</td>\n",
       "      <td>C</td>\n",
       "      <td>True</td>\n",
       "      <td>11</td>\n",
       "      <td>C</td>\n",
       "      <td>True</td>\n",
       "      <td>6</td>\n",
       "    </tr>\n",
       "    <tr>\n",
       "      <th>9</th>\n",
       "      <td>10</td>\n",
       "      <td>Education</td>\n",
       "      <td>Small</td>\n",
       "      <td>F</td>\n",
       "      <td>True</td>\n",
       "      <td>4</td>\n",
       "      <td>F</td>\n",
       "      <td>True</td>\n",
       "      <td>3</td>\n",
       "      <td>F</td>\n",
       "      <td>True</td>\n",
       "      <td>4</td>\n",
       "      <td>F</td>\n",
       "      <td>True</td>\n",
       "      <td>5</td>\n",
       "      <td>F</td>\n",
       "      <td>True</td>\n",
       "      <td>4</td>\n",
       "      <td>C</td>\n",
       "      <td>True</td>\n",
       "      <td>7</td>\n",
       "      <td>F</td>\n",
       "      <td>True</td>\n",
       "      <td>4</td>\n",
       "      <td>C</td>\n",
       "      <td>True</td>\n",
       "      <td>2</td>\n",
       "      <td>F</td>\n",
       "      <td>True</td>\n",
       "      <td>7</td>\n",
       "      <td>C</td>\n",
       "      <td>True</td>\n",
       "      <td>6</td>\n",
       "    </tr>\n",
       "    <tr>\n",
       "      <th>10</th>\n",
       "      <td>11</td>\n",
       "      <td>Computer Science</td>\n",
       "      <td>Medium</td>\n",
       "      <td>C</td>\n",
       "      <td>True</td>\n",
       "      <td>6</td>\n",
       "      <td>C</td>\n",
       "      <td>True</td>\n",
       "      <td>6</td>\n",
       "      <td>C</td>\n",
       "      <td>True</td>\n",
       "      <td>9</td>\n",
       "      <td>C</td>\n",
       "      <td>True</td>\n",
       "      <td>7</td>\n",
       "      <td>C</td>\n",
       "      <td>True</td>\n",
       "      <td>8</td>\n",
       "      <td>C</td>\n",
       "      <td>True</td>\n",
       "      <td>6</td>\n",
       "      <td>C</td>\n",
       "      <td>True</td>\n",
       "      <td>7</td>\n",
       "      <td>C</td>\n",
       "      <td>True</td>\n",
       "      <td>2</td>\n",
       "      <td>C</td>\n",
       "      <td>True</td>\n",
       "      <td>11</td>\n",
       "      <td>C</td>\n",
       "      <td>True</td>\n",
       "      <td>6</td>\n",
       "    </tr>\n",
       "    <tr>\n",
       "      <th>11</th>\n",
       "      <td>12</td>\n",
       "      <td>Education</td>\n",
       "      <td>Large</td>\n",
       "      <td>C</td>\n",
       "      <td>True</td>\n",
       "      <td>5</td>\n",
       "      <td>F</td>\n",
       "      <td>True</td>\n",
       "      <td>3</td>\n",
       "      <td>C</td>\n",
       "      <td>True</td>\n",
       "      <td>5</td>\n",
       "      <td>C</td>\n",
       "      <td>True</td>\n",
       "      <td>8</td>\n",
       "      <td>C</td>\n",
       "      <td>True</td>\n",
       "      <td>7</td>\n",
       "      <td>C</td>\n",
       "      <td>True</td>\n",
       "      <td>6</td>\n",
       "      <td>C</td>\n",
       "      <td>True</td>\n",
       "      <td>4</td>\n",
       "      <td>C</td>\n",
       "      <td>True</td>\n",
       "      <td>4</td>\n",
       "      <td>C</td>\n",
       "      <td>True</td>\n",
       "      <td>3</td>\n",
       "      <td>C</td>\n",
       "      <td>True</td>\n",
       "      <td>5</td>\n",
       "    </tr>\n",
       "    <tr>\n",
       "      <th>12</th>\n",
       "      <td>13</td>\n",
       "      <td>Education</td>\n",
       "      <td>Small</td>\n",
       "      <td>C</td>\n",
       "      <td>True</td>\n",
       "      <td>4</td>\n",
       "      <td>C</td>\n",
       "      <td>True</td>\n",
       "      <td>5</td>\n",
       "      <td>C</td>\n",
       "      <td>True</td>\n",
       "      <td>4</td>\n",
       "      <td>C</td>\n",
       "      <td>True</td>\n",
       "      <td>10</td>\n",
       "      <td>C</td>\n",
       "      <td>True</td>\n",
       "      <td>5</td>\n",
       "      <td>C</td>\n",
       "      <td>True</td>\n",
       "      <td>5</td>\n",
       "      <td>C</td>\n",
       "      <td>True</td>\n",
       "      <td>5</td>\n",
       "      <td>C</td>\n",
       "      <td>True</td>\n",
       "      <td>5</td>\n",
       "      <td>C</td>\n",
       "      <td>True</td>\n",
       "      <td>9</td>\n",
       "      <td>C</td>\n",
       "      <td>True</td>\n",
       "      <td>7</td>\n",
       "    </tr>\n",
       "    <tr>\n",
       "      <th>13</th>\n",
       "      <td>15</td>\n",
       "      <td>Education</td>\n",
       "      <td>Large</td>\n",
       "      <td>C</td>\n",
       "      <td>True</td>\n",
       "      <td>5</td>\n",
       "      <td>C</td>\n",
       "      <td>True</td>\n",
       "      <td>6</td>\n",
       "      <td>C</td>\n",
       "      <td>True</td>\n",
       "      <td>6</td>\n",
       "      <td>C</td>\n",
       "      <td>True</td>\n",
       "      <td>5</td>\n",
       "      <td>C</td>\n",
       "      <td>True</td>\n",
       "      <td>9</td>\n",
       "      <td>C</td>\n",
       "      <td>True</td>\n",
       "      <td>7</td>\n",
       "      <td>C</td>\n",
       "      <td>True</td>\n",
       "      <td>5</td>\n",
       "      <td>C</td>\n",
       "      <td>True</td>\n",
       "      <td>3</td>\n",
       "      <td>C</td>\n",
       "      <td>True</td>\n",
       "      <td>13</td>\n",
       "      <td>C</td>\n",
       "      <td>True</td>\n",
       "      <td>7</td>\n",
       "    </tr>\n",
       "    <tr>\n",
       "      <th>14</th>\n",
       "      <td>16</td>\n",
       "      <td>Education</td>\n",
       "      <td>Small</td>\n",
       "      <td>F</td>\n",
       "      <td>True</td>\n",
       "      <td>4</td>\n",
       "      <td>F</td>\n",
       "      <td>True</td>\n",
       "      <td>4</td>\n",
       "      <td>F</td>\n",
       "      <td>True</td>\n",
       "      <td>4</td>\n",
       "      <td>C</td>\n",
       "      <td>True</td>\n",
       "      <td>6</td>\n",
       "      <td>C</td>\n",
       "      <td>True</td>\n",
       "      <td>7</td>\n",
       "      <td>C</td>\n",
       "      <td>True</td>\n",
       "      <td>5</td>\n",
       "      <td>F</td>\n",
       "      <td>True</td>\n",
       "      <td>4</td>\n",
       "      <td>C</td>\n",
       "      <td>True</td>\n",
       "      <td>4</td>\n",
       "      <td>C</td>\n",
       "      <td>True</td>\n",
       "      <td>10</td>\n",
       "      <td>C</td>\n",
       "      <td>True</td>\n",
       "      <td>3</td>\n",
       "    </tr>\n",
       "    <tr>\n",
       "      <th>15</th>\n",
       "      <td>18</td>\n",
       "      <td>Computer Science</td>\n",
       "      <td>Large</td>\n",
       "      <td>F</td>\n",
       "      <td>True</td>\n",
       "      <td>3</td>\n",
       "      <td>F</td>\n",
       "      <td>True</td>\n",
       "      <td>5</td>\n",
       "      <td>F</td>\n",
       "      <td>True</td>\n",
       "      <td>3</td>\n",
       "      <td>F</td>\n",
       "      <td>True</td>\n",
       "      <td>7</td>\n",
       "      <td>C</td>\n",
       "      <td>True</td>\n",
       "      <td>7</td>\n",
       "      <td>F</td>\n",
       "      <td>True</td>\n",
       "      <td>5</td>\n",
       "      <td>C</td>\n",
       "      <td>True</td>\n",
       "      <td>5</td>\n",
       "      <td>C</td>\n",
       "      <td>True</td>\n",
       "      <td>2</td>\n",
       "      <td>C</td>\n",
       "      <td>True</td>\n",
       "      <td>2</td>\n",
       "      <td>C</td>\n",
       "      <td>True</td>\n",
       "      <td>7</td>\n",
       "    </tr>\n",
       "    <tr>\n",
       "      <th>16</th>\n",
       "      <td>19</td>\n",
       "      <td>Education</td>\n",
       "      <td>Medium</td>\n",
       "      <td>C</td>\n",
       "      <td>True</td>\n",
       "      <td>5</td>\n",
       "      <td>F</td>\n",
       "      <td>True</td>\n",
       "      <td>6</td>\n",
       "      <td>C</td>\n",
       "      <td>True</td>\n",
       "      <td>4</td>\n",
       "      <td>C</td>\n",
       "      <td>True</td>\n",
       "      <td>7</td>\n",
       "      <td>C</td>\n",
       "      <td>False</td>\n",
       "      <td>5</td>\n",
       "      <td>C</td>\n",
       "      <td>True</td>\n",
       "      <td>8</td>\n",
       "      <td>C</td>\n",
       "      <td>True</td>\n",
       "      <td>5</td>\n",
       "      <td>C</td>\n",
       "      <td>True</td>\n",
       "      <td>2</td>\n",
       "      <td>C</td>\n",
       "      <td>True</td>\n",
       "      <td>5</td>\n",
       "      <td>F</td>\n",
       "      <td>True</td>\n",
       "      <td>3</td>\n",
       "    </tr>\n",
       "    <tr>\n",
       "      <th>17</th>\n",
       "      <td>20</td>\n",
       "      <td>Education</td>\n",
       "      <td>Medium</td>\n",
       "      <td>C</td>\n",
       "      <td>True</td>\n",
       "      <td>3</td>\n",
       "      <td>S</td>\n",
       "      <td>True</td>\n",
       "      <td>1</td>\n",
       "      <td>F</td>\n",
       "      <td>True</td>\n",
       "      <td>3</td>\n",
       "      <td>F</td>\n",
       "      <td>True</td>\n",
       "      <td>3</td>\n",
       "      <td>C</td>\n",
       "      <td>True</td>\n",
       "      <td>6</td>\n",
       "      <td>F</td>\n",
       "      <td>True</td>\n",
       "      <td>4</td>\n",
       "      <td>F</td>\n",
       "      <td>True</td>\n",
       "      <td>4</td>\n",
       "      <td>F</td>\n",
       "      <td>True</td>\n",
       "      <td>4</td>\n",
       "      <td>F</td>\n",
       "      <td>True</td>\n",
       "      <td>5</td>\n",
       "      <td>F</td>\n",
       "      <td>True</td>\n",
       "      <td>4</td>\n",
       "    </tr>\n",
       "  </tbody>\n",
       "</table>\n",
       "</div>"
      ],
      "text/plain": [
       "    p_number             major screen_size t1_type  t1_isSuccess  t1_numWords  \\\n",
       "0          1         Education       Small       C          True            6   \n",
       "1          2  Computer Science      Medium       C          True            7   \n",
       "2          3         Education       Large       F          True            3   \n",
       "3          4         Education       Small       C          True            3   \n",
       "4          5         Education      Medium       C          True            4   \n",
       "5          6  Computer Science       Large       F          True            6   \n",
       "6          7         Education       Small       F          True            3   \n",
       "7          8  Computer Science      Medium       F          True            4   \n",
       "8          9  Computer Science       Large       C          True            6   \n",
       "9         10         Education       Small       F          True            4   \n",
       "10        11  Computer Science      Medium       C          True            6   \n",
       "11        12         Education       Large       C          True            5   \n",
       "12        13         Education       Small       C          True            4   \n",
       "13        15         Education       Large       C          True            5   \n",
       "14        16         Education       Small       F          True            4   \n",
       "15        18  Computer Science       Large       F          True            3   \n",
       "16        19         Education      Medium       C          True            5   \n",
       "17        20         Education      Medium       C          True            3   \n",
       "\n",
       "   t2_type  t2_isSuccess  t2_numWords t3_type  t3_isSuccess  t3_numWords  \\\n",
       "0        F          True            4       F          True            4   \n",
       "1        C          True            7       C          True            5   \n",
       "2        F          True            4       F          True            4   \n",
       "3        C          True            6       C          True            5   \n",
       "4        F          True            4       F          True            5   \n",
       "5        C          True            5       F          True            4   \n",
       "6        F          True            4       C          True            5   \n",
       "7        F          True            3       F          True            2   \n",
       "8        C          True            6       C          True            4   \n",
       "9        F          True            3       F          True            4   \n",
       "10       C          True            6       C          True            9   \n",
       "11       F          True            3       C          True            5   \n",
       "12       C          True            5       C          True            4   \n",
       "13       C          True            6       C          True            6   \n",
       "14       F          True            4       F          True            4   \n",
       "15       F          True            5       F          True            3   \n",
       "16       F          True            6       C          True            4   \n",
       "17       S          True            1       F          True            3   \n",
       "\n",
       "   t4_type  t4_isSuccess  t4_numWords t5_type  t5_isSuccess  t5_numWords  \\\n",
       "0        C          True            5       C          True            3   \n",
       "1        C          True            6       C          True            9   \n",
       "2        C          True            7       F          True            2   \n",
       "3        C          True            6       C          True            3   \n",
       "4        C          True            6       C          True            6   \n",
       "5        F          True            5       F          True            6   \n",
       "6        C          True            6       C          True            7   \n",
       "7        F          True            8       C          True            7   \n",
       "8        F          True            5       C          True            4   \n",
       "9        F          True            5       F          True            4   \n",
       "10       C          True            7       C          True            8   \n",
       "11       C          True            8       C          True            7   \n",
       "12       C          True           10       C          True            5   \n",
       "13       C          True            5       C          True            9   \n",
       "14       C          True            6       C          True            7   \n",
       "15       F          True            7       C          True            7   \n",
       "16       C          True            7       C         False            5   \n",
       "17       F          True            3       C          True            6   \n",
       "\n",
       "   t6_type  t6_isSuccess  t6_numWords t7_type  t7_isSuccess  t7_numWords  \\\n",
       "0        C          True            6       C          True            4   \n",
       "1        C          True            6       C          True            5   \n",
       "2        F          True            4       C          True            3   \n",
       "3        S         False            1       S          True            1   \n",
       "4        C          True            6       S          True            1   \n",
       "5        F          True            6       F          True            6   \n",
       "6        C          True            6       C          True            6   \n",
       "7        F          True            5       F          True            5   \n",
       "8        C          True            7       C          True            4   \n",
       "9        C          True            7       F          True            4   \n",
       "10       C          True            6       C          True            7   \n",
       "11       C          True            6       C          True            4   \n",
       "12       C          True            5       C          True            5   \n",
       "13       C          True            7       C          True            5   \n",
       "14       C          True            5       F          True            4   \n",
       "15       F          True            5       C          True            5   \n",
       "16       C          True            8       C          True            5   \n",
       "17       F          True            4       F          True            4   \n",
       "\n",
       "   t8_type  t8_isSuccess  t8_numWords t9_type  t9_isSuccess  t9_numWords  \\\n",
       "0        C          True            2       C          True           11   \n",
       "1        C          True            3       C         False            2   \n",
       "2        C          True            2       F          True            8   \n",
       "3        F          True            2       I         False            0   \n",
       "4        C          True            4       C         False            5   \n",
       "5        C          True            2       C          True            2   \n",
       "6        C          True            2       C          True           13   \n",
       "7        C          True            2       F          True           11   \n",
       "8        C          True            5       C          True           11   \n",
       "9        C          True            2       F          True            7   \n",
       "10       C          True            2       C          True           11   \n",
       "11       C          True            4       C          True            3   \n",
       "12       C          True            5       C          True            9   \n",
       "13       C          True            3       C          True           13   \n",
       "14       C          True            4       C          True           10   \n",
       "15       C          True            2       C          True            2   \n",
       "16       C          True            2       C          True            5   \n",
       "17       F          True            4       F          True            5   \n",
       "\n",
       "   t10_type  t10_isSuccess  t10_numWords  \n",
       "0         F           True             2  \n",
       "1         C           True             7  \n",
       "2         C           True             3  \n",
       "3         C           True             3  \n",
       "4         F           True             3  \n",
       "5         F           True             8  \n",
       "6         F           True             5  \n",
       "7         F           True             6  \n",
       "8         C           True             6  \n",
       "9         C           True             6  \n",
       "10        C           True             6  \n",
       "11        C           True             5  \n",
       "12        C           True             7  \n",
       "13        C           True             7  \n",
       "14        C           True             3  \n",
       "15        C           True             7  \n",
       "16        F           True             3  \n",
       "17        F           True             4  "
      ]
     },
     "execution_count": 2,
     "metadata": {},
     "output_type": "execute_result"
    }
   ],
   "source": [
    "task_df = pd.read_csv('../data/processed/task_data.csv')\n",
    "task_df"
   ]
  },
  {
   "cell_type": "markdown",
   "metadata": {},
   "source": [
    "## All Data Descriptive Stats ##\n",
    "\n",
    "First, descriptive stats about all the data are calculated. For the length of response, numerical stats are calculated (i.e., mean, SD, etc.). For type and success, counts of each value are calculated, as these variables are categorical."
   ]
  },
  {
   "cell_type": "code",
   "execution_count": 3,
   "metadata": {},
   "outputs": [],
   "source": [
    "num_words = task_df[[\"t1_numWords\",\"t2_numWords\",\"t3_numWords\",\"t4_numWords\",\"t5_numWords\",\"t6_numWords\",\"t7_numWords\",\"t8_numWords\",\"t9_numWords\",\"t10_numWords\"]]\n",
    "types     = task_df[[\"t1_type\",\"t2_type\",\"t3_type\",\"t4_type\",\"t5_type\",\"t6_type\",\"t7_type\",\"t8_type\",\"t9_type\",\"t10_type\"]]\n",
    "success   = task_df[[\"t1_isSuccess\",\"t2_isSuccess\",\"t3_isSuccess\",\"t4_isSuccess\",\"t5_isSuccess\",\"t6_isSuccess\",\"t7_isSuccess\",\"t8_isSuccess\",\"t9_isSuccess\",\"t10_isSuccess\"]]"
   ]
  },
  {
   "cell_type": "code",
   "execution_count": 4,
   "metadata": {},
   "outputs": [
    {
     "data": {
      "text/html": [
       "<div>\n",
       "<style scoped>\n",
       "    .dataframe tbody tr th:only-of-type {\n",
       "        vertical-align: middle;\n",
       "    }\n",
       "\n",
       "    .dataframe tbody tr th {\n",
       "        vertical-align: top;\n",
       "    }\n",
       "\n",
       "    .dataframe thead th {\n",
       "        text-align: right;\n",
       "    }\n",
       "</style>\n",
       "<table border=\"1\" class=\"dataframe\">\n",
       "  <thead>\n",
       "    <tr style=\"text-align: right;\">\n",
       "      <th></th>\n",
       "      <th>t1_numWords</th>\n",
       "      <th>t2_numWords</th>\n",
       "      <th>t3_numWords</th>\n",
       "      <th>t4_numWords</th>\n",
       "      <th>t5_numWords</th>\n",
       "      <th>t6_numWords</th>\n",
       "      <th>t7_numWords</th>\n",
       "      <th>t8_numWords</th>\n",
       "      <th>t9_numWords</th>\n",
       "      <th>t10_numWords</th>\n",
       "    </tr>\n",
       "  </thead>\n",
       "  <tbody>\n",
       "    <tr>\n",
       "      <th>count</th>\n",
       "      <td>18.000000</td>\n",
       "      <td>18.000000</td>\n",
       "      <td>18.000000</td>\n",
       "      <td>18.000000</td>\n",
       "      <td>18.000000</td>\n",
       "      <td>18.000000</td>\n",
       "      <td>18.000000</td>\n",
       "      <td>18.000000</td>\n",
       "      <td>18.000000</td>\n",
       "      <td>18.000000</td>\n",
       "    </tr>\n",
       "    <tr>\n",
       "      <th>mean</th>\n",
       "      <td>4.500000</td>\n",
       "      <td>4.555556</td>\n",
       "      <td>4.444444</td>\n",
       "      <td>6.222222</td>\n",
       "      <td>5.833333</td>\n",
       "      <td>5.555556</td>\n",
       "      <td>4.333333</td>\n",
       "      <td>2.888889</td>\n",
       "      <td>7.111111</td>\n",
       "      <td>5.055556</td>\n",
       "    </tr>\n",
       "    <tr>\n",
       "      <th>std</th>\n",
       "      <td>1.294786</td>\n",
       "      <td>1.503808</td>\n",
       "      <td>1.464169</td>\n",
       "      <td>1.555089</td>\n",
       "      <td>2.036433</td>\n",
       "      <td>1.542428</td>\n",
       "      <td>1.533930</td>\n",
       "      <td>1.131833</td>\n",
       "      <td>4.213269</td>\n",
       "      <td>1.862074</td>\n",
       "    </tr>\n",
       "    <tr>\n",
       "      <th>min</th>\n",
       "      <td>3.000000</td>\n",
       "      <td>1.000000</td>\n",
       "      <td>2.000000</td>\n",
       "      <td>3.000000</td>\n",
       "      <td>2.000000</td>\n",
       "      <td>1.000000</td>\n",
       "      <td>1.000000</td>\n",
       "      <td>2.000000</td>\n",
       "      <td>0.000000</td>\n",
       "      <td>2.000000</td>\n",
       "    </tr>\n",
       "    <tr>\n",
       "      <th>25%</th>\n",
       "      <td>3.250000</td>\n",
       "      <td>4.000000</td>\n",
       "      <td>4.000000</td>\n",
       "      <td>5.000000</td>\n",
       "      <td>4.250000</td>\n",
       "      <td>5.000000</td>\n",
       "      <td>4.000000</td>\n",
       "      <td>2.000000</td>\n",
       "      <td>3.500000</td>\n",
       "      <td>3.000000</td>\n",
       "    </tr>\n",
       "    <tr>\n",
       "      <th>50%</th>\n",
       "      <td>4.000000</td>\n",
       "      <td>4.500000</td>\n",
       "      <td>4.000000</td>\n",
       "      <td>6.000000</td>\n",
       "      <td>6.000000</td>\n",
       "      <td>6.000000</td>\n",
       "      <td>4.500000</td>\n",
       "      <td>2.000000</td>\n",
       "      <td>7.500000</td>\n",
       "      <td>5.500000</td>\n",
       "    </tr>\n",
       "    <tr>\n",
       "      <th>75%</th>\n",
       "      <td>5.750000</td>\n",
       "      <td>6.000000</td>\n",
       "      <td>5.000000</td>\n",
       "      <td>7.000000</td>\n",
       "      <td>7.000000</td>\n",
       "      <td>6.000000</td>\n",
       "      <td>5.000000</td>\n",
       "      <td>4.000000</td>\n",
       "      <td>11.000000</td>\n",
       "      <td>6.750000</td>\n",
       "    </tr>\n",
       "    <tr>\n",
       "      <th>max</th>\n",
       "      <td>7.000000</td>\n",
       "      <td>7.000000</td>\n",
       "      <td>9.000000</td>\n",
       "      <td>10.000000</td>\n",
       "      <td>9.000000</td>\n",
       "      <td>8.000000</td>\n",
       "      <td>7.000000</td>\n",
       "      <td>5.000000</td>\n",
       "      <td>13.000000</td>\n",
       "      <td>8.000000</td>\n",
       "    </tr>\n",
       "  </tbody>\n",
       "</table>\n",
       "</div>"
      ],
      "text/plain": [
       "       t1_numWords  t2_numWords  t3_numWords  t4_numWords  t5_numWords  \\\n",
       "count    18.000000    18.000000    18.000000    18.000000    18.000000   \n",
       "mean      4.500000     4.555556     4.444444     6.222222     5.833333   \n",
       "std       1.294786     1.503808     1.464169     1.555089     2.036433   \n",
       "min       3.000000     1.000000     2.000000     3.000000     2.000000   \n",
       "25%       3.250000     4.000000     4.000000     5.000000     4.250000   \n",
       "50%       4.000000     4.500000     4.000000     6.000000     6.000000   \n",
       "75%       5.750000     6.000000     5.000000     7.000000     7.000000   \n",
       "max       7.000000     7.000000     9.000000    10.000000     9.000000   \n",
       "\n",
       "       t6_numWords  t7_numWords  t8_numWords  t9_numWords  t10_numWords  \n",
       "count    18.000000    18.000000    18.000000    18.000000     18.000000  \n",
       "mean      5.555556     4.333333     2.888889     7.111111      5.055556  \n",
       "std       1.542428     1.533930     1.131833     4.213269      1.862074  \n",
       "min       1.000000     1.000000     2.000000     0.000000      2.000000  \n",
       "25%       5.000000     4.000000     2.000000     3.500000      3.000000  \n",
       "50%       6.000000     4.500000     2.000000     7.500000      5.500000  \n",
       "75%       6.000000     5.000000     4.000000    11.000000      6.750000  \n",
       "max       8.000000     7.000000     5.000000    13.000000      8.000000  "
      ]
     },
     "execution_count": 4,
     "metadata": {},
     "output_type": "execute_result"
    }
   ],
   "source": [
    "num_words.describe()"
   ]
  },
  {
   "cell_type": "code",
   "execution_count": 5,
   "metadata": {},
   "outputs": [
    {
     "data": {
      "image/png": "[encoded data removed]",
      "text/plain": [
       "<Figure size 1440x720 with 10 Axes>"
      ]
     },
     "metadata": {},
     "output_type": "display_data"
    }
   ],
   "source": [
    "fig = plt.figure(figsize=(20.0, 10.0))\n",
    "fig.suptitle(\"Count of Response Types (All)\")\n",
    "index = 1\n",
    "\n",
    "cols = [\"t1_type\",\"t2_type\",\"t3_type\",\"t4_type\",\"t5_type\",\"t6_type\",\"t7_type\",\"t8_type\",\"t9_type\",\"t10_type\"]\n",
    "for c in cols:\n",
    "    plt.subplot(2, 5, index)\n",
    "    ax = sns.countplot(x=c, palette=type_color, order=[\"I\", \"S\", \"F\", \"C\"], data=types)\n",
    "    ax.set_ylim(0, 18)\n",
    "    \n",
    "    index = index + 1\n",
    "    \n",
    "plt.savefig(\"../figures/type_all.png\", bbox_inches=\"tight\")"
   ]
  },
  {
   "cell_type": "code",
   "execution_count": 6,
   "metadata": {},
   "outputs": [
    {
     "data": {
      "image/png": "[encoded data removed]",
      "text/plain": [
       "<Figure size 1440x720 with 10 Axes>"
      ]
     },
     "metadata": {},
     "output_type": "display_data"
    }
   ],
   "source": [
    "fig = plt.figure(figsize=(20.0, 10.0))\n",
    "fig.suptitle(\"Count of Successful Responses (All)\")\n",
    "index = 1\n",
    "\n",
    "cols = [\"t1_isSuccess\",\"t2_isSuccess\",\"t3_isSuccess\",\"t4_isSuccess\",\"t5_isSuccess\",\"t6_isSuccess\",\"t7_isSuccess\",\"t8_isSuccess\",\"t9_isSuccess\",\"t10_isSuccess\"]\n",
    "for c in cols:\n",
    "    plt.subplot(2, 5, index)\n",
    "    ax = sns.countplot(x=c, palette=tf_color, order=[False, True], data=success)\n",
    "    ax.set_ylim(0, 18)\n",
    "    \n",
    "    index = index + 1\n",
    "\n",
    "plt.savefig(\"../figures/success_all.png\", bbox_inches=\"tight\")"
   ]
  },
  {
   "cell_type": "markdown",
   "metadata": {},
   "source": [
    "## Descriptive Stats by Screen Size ##\n",
    "\n",
    "The data is now broken up by screen size. This is done to answer the research question about screen size having an impact on the data."
   ]
  },
  {
   "cell_type": "markdown",
   "metadata": {},
   "source": [
    "### Screen Size Breakdown ###"
   ]
  },
  {
   "cell_type": "code",
   "execution_count": 7,
   "metadata": {},
   "outputs": [],
   "source": [
    "small_df = task_df[task_df[\"screen_size\"] == \"Small\"]\n",
    "med_df   = task_df[task_df[\"screen_size\"] == \"Medium\"]\n",
    "large_df = task_df[task_df[\"screen_size\"] == \"Large\"]"
   ]
  },
  {
   "cell_type": "code",
   "execution_count": 8,
   "metadata": {},
   "outputs": [
    {
     "data": {
      "text/plain": [
       "Medium    6\n",
       "Small     6\n",
       "Large     6\n",
       "Name: screen_size, dtype: int64"
      ]
     },
     "execution_count": 8,
     "metadata": {},
     "output_type": "execute_result"
    }
   ],
   "source": [
    "sizes = task_df[\"screen_size\"].value_counts()\n",
    "sizes"
   ]
  },
  {
   "cell_type": "code",
   "execution_count": 9,
   "metadata": {},
   "outputs": [
    {
     "data": {
      "image/png": "[encoded data removed]",
      "text/plain": [
       "<Figure size 288x288 with 1 Axes>"
      ]
     },
     "metadata": {},
     "output_type": "display_data"
    }
   ],
   "source": [
    "fig = plt.figure(facecolor=\"white\", figsize=(4,4))\n",
    "ax = sizes.plot.pie(title=\"Ratio of Screen Sizes\")\n",
    "ax.set_ylabel(\"\")\n",
    "\n",
    "plt.savefig(\"../figures/size_ratio.png\", bbox_inches=\"tight\")"
   ]
  },
  {
   "cell_type": "code",
   "execution_count": 10,
   "metadata": {},
   "outputs": [
    {
     "data": {
      "image/png": "[encoded data removed]",
      "text/plain": [
       "<Figure size 432x288 with 1 Axes>"
      ]
     },
     "metadata": {},
     "output_type": "display_data"
    }
   ],
   "source": [
    "sizes.plot(kind=\"bar\", title=\"Number per Screen Size\")\n",
    "\n",
    "plt.savefig(\"../figures/size_count.png\", bbox_inches=\"tight\")"
   ]
  },
  {
   "cell_type": "code",
   "execution_count": 11,
   "metadata": {},
   "outputs": [
    {
     "data": {
      "text/html": [
       "<div>\n",
       "<style scoped>\n",
       "    .dataframe tbody tr th:only-of-type {\n",
       "        vertical-align: middle;\n",
       "    }\n",
       "\n",
       "    .dataframe tbody tr th {\n",
       "        vertical-align: top;\n",
       "    }\n",
       "\n",
       "    .dataframe thead th {\n",
       "        text-align: right;\n",
       "    }\n",
       "</style>\n",
       "<table border=\"1\" class=\"dataframe\">\n",
       "  <thead>\n",
       "    <tr style=\"text-align: right;\">\n",
       "      <th></th>\n",
       "      <th>t1_numWords</th>\n",
       "      <th>t2_numWords</th>\n",
       "      <th>t3_numWords</th>\n",
       "      <th>t4_numWords</th>\n",
       "      <th>t5_numWords</th>\n",
       "      <th>t6_numWords</th>\n",
       "      <th>t7_numWords</th>\n",
       "      <th>t8_numWords</th>\n",
       "      <th>t9_numWords</th>\n",
       "      <th>t10_numWords</th>\n",
       "    </tr>\n",
       "  </thead>\n",
       "  <tbody>\n",
       "    <tr>\n",
       "      <th>count</th>\n",
       "      <td>6.000000</td>\n",
       "      <td>6.000000</td>\n",
       "      <td>6.000000</td>\n",
       "      <td>6.000000</td>\n",
       "      <td>6.000000</td>\n",
       "      <td>6.000000</td>\n",
       "      <td>6.00000</td>\n",
       "      <td>6.000000</td>\n",
       "      <td>6.000000</td>\n",
       "      <td>6.000000</td>\n",
       "    </tr>\n",
       "    <tr>\n",
       "      <th>mean</th>\n",
       "      <td>4.000000</td>\n",
       "      <td>4.333333</td>\n",
       "      <td>4.333333</td>\n",
       "      <td>6.333333</td>\n",
       "      <td>4.833333</td>\n",
       "      <td>5.000000</td>\n",
       "      <td>4.00000</td>\n",
       "      <td>2.833333</td>\n",
       "      <td>8.333333</td>\n",
       "      <td>4.333333</td>\n",
       "    </tr>\n",
       "    <tr>\n",
       "      <th>std</th>\n",
       "      <td>1.095445</td>\n",
       "      <td>1.032796</td>\n",
       "      <td>0.516398</td>\n",
       "      <td>1.861899</td>\n",
       "      <td>1.834848</td>\n",
       "      <td>2.097618</td>\n",
       "      <td>1.67332</td>\n",
       "      <td>1.329160</td>\n",
       "      <td>4.546061</td>\n",
       "      <td>1.966384</td>\n",
       "    </tr>\n",
       "    <tr>\n",
       "      <th>min</th>\n",
       "      <td>3.000000</td>\n",
       "      <td>3.000000</td>\n",
       "      <td>4.000000</td>\n",
       "      <td>5.000000</td>\n",
       "      <td>3.000000</td>\n",
       "      <td>1.000000</td>\n",
       "      <td>1.00000</td>\n",
       "      <td>2.000000</td>\n",
       "      <td>0.000000</td>\n",
       "      <td>2.000000</td>\n",
       "    </tr>\n",
       "    <tr>\n",
       "      <th>25%</th>\n",
       "      <td>3.250000</td>\n",
       "      <td>4.000000</td>\n",
       "      <td>4.000000</td>\n",
       "      <td>5.250000</td>\n",
       "      <td>3.250000</td>\n",
       "      <td>5.000000</td>\n",
       "      <td>4.00000</td>\n",
       "      <td>2.000000</td>\n",
       "      <td>7.500000</td>\n",
       "      <td>3.000000</td>\n",
       "    </tr>\n",
       "    <tr>\n",
       "      <th>50%</th>\n",
       "      <td>4.000000</td>\n",
       "      <td>4.000000</td>\n",
       "      <td>4.000000</td>\n",
       "      <td>6.000000</td>\n",
       "      <td>4.500000</td>\n",
       "      <td>5.500000</td>\n",
       "      <td>4.00000</td>\n",
       "      <td>2.000000</td>\n",
       "      <td>9.500000</td>\n",
       "      <td>4.000000</td>\n",
       "    </tr>\n",
       "    <tr>\n",
       "      <th>75%</th>\n",
       "      <td>4.000000</td>\n",
       "      <td>4.750000</td>\n",
       "      <td>4.750000</td>\n",
       "      <td>6.000000</td>\n",
       "      <td>6.500000</td>\n",
       "      <td>6.000000</td>\n",
       "      <td>4.75000</td>\n",
       "      <td>3.500000</td>\n",
       "      <td>10.750000</td>\n",
       "      <td>5.750000</td>\n",
       "    </tr>\n",
       "    <tr>\n",
       "      <th>max</th>\n",
       "      <td>6.000000</td>\n",
       "      <td>6.000000</td>\n",
       "      <td>5.000000</td>\n",
       "      <td>10.000000</td>\n",
       "      <td>7.000000</td>\n",
       "      <td>7.000000</td>\n",
       "      <td>6.00000</td>\n",
       "      <td>5.000000</td>\n",
       "      <td>13.000000</td>\n",
       "      <td>7.000000</td>\n",
       "    </tr>\n",
       "  </tbody>\n",
       "</table>\n",
       "</div>"
      ],
      "text/plain": [
       "       t1_numWords  t2_numWords  t3_numWords  t4_numWords  t5_numWords  \\\n",
       "count     6.000000     6.000000     6.000000     6.000000     6.000000   \n",
       "mean      4.000000     4.333333     4.333333     6.333333     4.833333   \n",
       "std       1.095445     1.032796     0.516398     1.861899     1.834848   \n",
       "min       3.000000     3.000000     4.000000     5.000000     3.000000   \n",
       "25%       3.250000     4.000000     4.000000     5.250000     3.250000   \n",
       "50%       4.000000     4.000000     4.000000     6.000000     4.500000   \n",
       "75%       4.000000     4.750000     4.750000     6.000000     6.500000   \n",
       "max       6.000000     6.000000     5.000000    10.000000     7.000000   \n",
       "\n",
       "       t6_numWords  t7_numWords  t8_numWords  t9_numWords  t10_numWords  \n",
       "count     6.000000      6.00000     6.000000     6.000000      6.000000  \n",
       "mean      5.000000      4.00000     2.833333     8.333333      4.333333  \n",
       "std       2.097618      1.67332     1.329160     4.546061      1.966384  \n",
       "min       1.000000      1.00000     2.000000     0.000000      2.000000  \n",
       "25%       5.000000      4.00000     2.000000     7.500000      3.000000  \n",
       "50%       5.500000      4.00000     2.000000     9.500000      4.000000  \n",
       "75%       6.000000      4.75000     3.500000    10.750000      5.750000  \n",
       "max       7.000000      6.00000     5.000000    13.000000      7.000000  "
      ]
     },
     "execution_count": 11,
     "metadata": {},
     "output_type": "execute_result"
    }
   ],
   "source": [
    "small_df[[\"t1_numWords\",\"t2_numWords\",\"t3_numWords\",\"t4_numWords\",\"t5_numWords\",\"t6_numWords\",\"t7_numWords\",\"t8_numWords\",\"t9_numWords\",\"t10_numWords\"]].describe()"
   ]
  },
  {
   "cell_type": "code",
   "execution_count": 12,
   "metadata": {},
   "outputs": [
    {
     "data": {
      "text/html": [
       "<div>\n",
       "<style scoped>\n",
       "    .dataframe tbody tr th:only-of-type {\n",
       "        vertical-align: middle;\n",
       "    }\n",
       "\n",
       "    .dataframe tbody tr th {\n",
       "        vertical-align: top;\n",
       "    }\n",
       "\n",
       "    .dataframe thead th {\n",
       "        text-align: right;\n",
       "    }\n",
       "</style>\n",
       "<table border=\"1\" class=\"dataframe\">\n",
       "  <thead>\n",
       "    <tr style=\"text-align: right;\">\n",
       "      <th></th>\n",
       "      <th>t1_numWords</th>\n",
       "      <th>t2_numWords</th>\n",
       "      <th>t3_numWords</th>\n",
       "      <th>t4_numWords</th>\n",
       "      <th>t5_numWords</th>\n",
       "      <th>t6_numWords</th>\n",
       "      <th>t7_numWords</th>\n",
       "      <th>t8_numWords</th>\n",
       "      <th>t9_numWords</th>\n",
       "      <th>t10_numWords</th>\n",
       "    </tr>\n",
       "  </thead>\n",
       "  <tbody>\n",
       "    <tr>\n",
       "      <th>count</th>\n",
       "      <td>6.000000</td>\n",
       "      <td>6.000000</td>\n",
       "      <td>6.000000</td>\n",
       "      <td>6.000000</td>\n",
       "      <td>6.000000</td>\n",
       "      <td>6.000000</td>\n",
       "      <td>6.000000</td>\n",
       "      <td>6.000000</td>\n",
       "      <td>6.000000</td>\n",
       "      <td>6.000000</td>\n",
       "    </tr>\n",
       "    <tr>\n",
       "      <th>mean</th>\n",
       "      <td>4.833333</td>\n",
       "      <td>4.500000</td>\n",
       "      <td>4.666667</td>\n",
       "      <td>6.166667</td>\n",
       "      <td>6.833333</td>\n",
       "      <td>5.833333</td>\n",
       "      <td>4.500000</td>\n",
       "      <td>2.833333</td>\n",
       "      <td>6.500000</td>\n",
       "      <td>4.833333</td>\n",
       "    </tr>\n",
       "    <tr>\n",
       "      <th>std</th>\n",
       "      <td>1.471960</td>\n",
       "      <td>2.258318</td>\n",
       "      <td>2.422120</td>\n",
       "      <td>1.722401</td>\n",
       "      <td>1.471960</td>\n",
       "      <td>1.329160</td>\n",
       "      <td>1.974842</td>\n",
       "      <td>0.983192</td>\n",
       "      <td>3.674235</td>\n",
       "      <td>1.722401</td>\n",
       "    </tr>\n",
       "    <tr>\n",
       "      <th>min</th>\n",
       "      <td>3.000000</td>\n",
       "      <td>1.000000</td>\n",
       "      <td>2.000000</td>\n",
       "      <td>3.000000</td>\n",
       "      <td>5.000000</td>\n",
       "      <td>4.000000</td>\n",
       "      <td>1.000000</td>\n",
       "      <td>2.000000</td>\n",
       "      <td>2.000000</td>\n",
       "      <td>3.000000</td>\n",
       "    </tr>\n",
       "    <tr>\n",
       "      <th>25%</th>\n",
       "      <td>4.000000</td>\n",
       "      <td>3.250000</td>\n",
       "      <td>3.250000</td>\n",
       "      <td>6.000000</td>\n",
       "      <td>6.000000</td>\n",
       "      <td>5.250000</td>\n",
       "      <td>4.250000</td>\n",
       "      <td>2.000000</td>\n",
       "      <td>5.000000</td>\n",
       "      <td>3.250000</td>\n",
       "    </tr>\n",
       "    <tr>\n",
       "      <th>50%</th>\n",
       "      <td>4.500000</td>\n",
       "      <td>5.000000</td>\n",
       "      <td>4.500000</td>\n",
       "      <td>6.500000</td>\n",
       "      <td>6.500000</td>\n",
       "      <td>6.000000</td>\n",
       "      <td>5.000000</td>\n",
       "      <td>2.500000</td>\n",
       "      <td>5.000000</td>\n",
       "      <td>5.000000</td>\n",
       "    </tr>\n",
       "    <tr>\n",
       "      <th>75%</th>\n",
       "      <td>5.750000</td>\n",
       "      <td>6.000000</td>\n",
       "      <td>5.000000</td>\n",
       "      <td>7.000000</td>\n",
       "      <td>7.750000</td>\n",
       "      <td>6.000000</td>\n",
       "      <td>5.000000</td>\n",
       "      <td>3.750000</td>\n",
       "      <td>9.500000</td>\n",
       "      <td>6.000000</td>\n",
       "    </tr>\n",
       "    <tr>\n",
       "      <th>max</th>\n",
       "      <td>7.000000</td>\n",
       "      <td>7.000000</td>\n",
       "      <td>9.000000</td>\n",
       "      <td>8.000000</td>\n",
       "      <td>9.000000</td>\n",
       "      <td>8.000000</td>\n",
       "      <td>7.000000</td>\n",
       "      <td>4.000000</td>\n",
       "      <td>11.000000</td>\n",
       "      <td>7.000000</td>\n",
       "    </tr>\n",
       "  </tbody>\n",
       "</table>\n",
       "</div>"
      ],
      "text/plain": [
       "       t1_numWords  t2_numWords  t3_numWords  t4_numWords  t5_numWords  \\\n",
       "count     6.000000     6.000000     6.000000     6.000000     6.000000   \n",
       "mean      4.833333     4.500000     4.666667     6.166667     6.833333   \n",
       "std       1.471960     2.258318     2.422120     1.722401     1.471960   \n",
       "min       3.000000     1.000000     2.000000     3.000000     5.000000   \n",
       "25%       4.000000     3.250000     3.250000     6.000000     6.000000   \n",
       "50%       4.500000     5.000000     4.500000     6.500000     6.500000   \n",
       "75%       5.750000     6.000000     5.000000     7.000000     7.750000   \n",
       "max       7.000000     7.000000     9.000000     8.000000     9.000000   \n",
       "\n",
       "       t6_numWords  t7_numWords  t8_numWords  t9_numWords  t10_numWords  \n",
       "count     6.000000     6.000000     6.000000     6.000000      6.000000  \n",
       "mean      5.833333     4.500000     2.833333     6.500000      4.833333  \n",
       "std       1.329160     1.974842     0.983192     3.674235      1.722401  \n",
       "min       4.000000     1.000000     2.000000     2.000000      3.000000  \n",
       "25%       5.250000     4.250000     2.000000     5.000000      3.250000  \n",
       "50%       6.000000     5.000000     2.500000     5.000000      5.000000  \n",
       "75%       6.000000     5.000000     3.750000     9.500000      6.000000  \n",
       "max       8.000000     7.000000     4.000000    11.000000      7.000000  "
      ]
     },
     "execution_count": 12,
     "metadata": {},
     "output_type": "execute_result"
    }
   ],
   "source": [
    "med_df[[\"t1_numWords\",\"t2_numWords\",\"t3_numWords\",\"t4_numWords\",\"t5_numWords\",\"t6_numWords\",\"t7_numWords\",\"t8_numWords\",\"t9_numWords\",\"t10_numWords\"]].describe()"
   ]
  },
  {
   "cell_type": "code",
   "execution_count": 13,
   "metadata": {},
   "outputs": [
    {
     "data": {
      "text/html": [
       "<div>\n",
       "<style scoped>\n",
       "    .dataframe tbody tr th:only-of-type {\n",
       "        vertical-align: middle;\n",
       "    }\n",
       "\n",
       "    .dataframe tbody tr th {\n",
       "        vertical-align: top;\n",
       "    }\n",
       "\n",
       "    .dataframe thead th {\n",
       "        text-align: right;\n",
       "    }\n",
       "</style>\n",
       "<table border=\"1\" class=\"dataframe\">\n",
       "  <thead>\n",
       "    <tr style=\"text-align: right;\">\n",
       "      <th></th>\n",
       "      <th>t1_numWords</th>\n",
       "      <th>t2_numWords</th>\n",
       "      <th>t3_numWords</th>\n",
       "      <th>t4_numWords</th>\n",
       "      <th>t5_numWords</th>\n",
       "      <th>t6_numWords</th>\n",
       "      <th>t7_numWords</th>\n",
       "      <th>t8_numWords</th>\n",
       "      <th>t9_numWords</th>\n",
       "      <th>t10_numWords</th>\n",
       "    </tr>\n",
       "  </thead>\n",
       "  <tbody>\n",
       "    <tr>\n",
       "      <th>count</th>\n",
       "      <td>6.000000</td>\n",
       "      <td>6.000000</td>\n",
       "      <td>6.000000</td>\n",
       "      <td>6.000000</td>\n",
       "      <td>6.000000</td>\n",
       "      <td>6.000000</td>\n",
       "      <td>6.000000</td>\n",
       "      <td>6.000000</td>\n",
       "      <td>6.00000</td>\n",
       "      <td>6.000000</td>\n",
       "    </tr>\n",
       "    <tr>\n",
       "      <th>mean</th>\n",
       "      <td>4.666667</td>\n",
       "      <td>4.833333</td>\n",
       "      <td>4.333333</td>\n",
       "      <td>6.166667</td>\n",
       "      <td>5.833333</td>\n",
       "      <td>5.833333</td>\n",
       "      <td>4.500000</td>\n",
       "      <td>3.000000</td>\n",
       "      <td>6.50000</td>\n",
       "      <td>6.000000</td>\n",
       "    </tr>\n",
       "    <tr>\n",
       "      <th>std</th>\n",
       "      <td>1.366260</td>\n",
       "      <td>1.169045</td>\n",
       "      <td>1.032796</td>\n",
       "      <td>1.329160</td>\n",
       "      <td>2.483277</td>\n",
       "      <td>1.169045</td>\n",
       "      <td>1.048809</td>\n",
       "      <td>1.264911</td>\n",
       "      <td>4.84768</td>\n",
       "      <td>1.788854</td>\n",
       "    </tr>\n",
       "    <tr>\n",
       "      <th>min</th>\n",
       "      <td>3.000000</td>\n",
       "      <td>3.000000</td>\n",
       "      <td>3.000000</td>\n",
       "      <td>5.000000</td>\n",
       "      <td>2.000000</td>\n",
       "      <td>4.000000</td>\n",
       "      <td>3.000000</td>\n",
       "      <td>2.000000</td>\n",
       "      <td>2.00000</td>\n",
       "      <td>3.000000</td>\n",
       "    </tr>\n",
       "    <tr>\n",
       "      <th>25%</th>\n",
       "      <td>3.500000</td>\n",
       "      <td>4.250000</td>\n",
       "      <td>4.000000</td>\n",
       "      <td>5.000000</td>\n",
       "      <td>4.500000</td>\n",
       "      <td>5.250000</td>\n",
       "      <td>4.000000</td>\n",
       "      <td>2.000000</td>\n",
       "      <td>2.25000</td>\n",
       "      <td>5.250000</td>\n",
       "    </tr>\n",
       "    <tr>\n",
       "      <th>50%</th>\n",
       "      <td>5.000000</td>\n",
       "      <td>5.000000</td>\n",
       "      <td>4.000000</td>\n",
       "      <td>6.000000</td>\n",
       "      <td>6.500000</td>\n",
       "      <td>6.000000</td>\n",
       "      <td>4.500000</td>\n",
       "      <td>2.500000</td>\n",
       "      <td>5.50000</td>\n",
       "      <td>6.500000</td>\n",
       "    </tr>\n",
       "    <tr>\n",
       "      <th>75%</th>\n",
       "      <td>5.750000</td>\n",
       "      <td>5.750000</td>\n",
       "      <td>4.750000</td>\n",
       "      <td>7.000000</td>\n",
       "      <td>7.000000</td>\n",
       "      <td>6.750000</td>\n",
       "      <td>5.000000</td>\n",
       "      <td>3.750000</td>\n",
       "      <td>10.25000</td>\n",
       "      <td>7.000000</td>\n",
       "    </tr>\n",
       "    <tr>\n",
       "      <th>max</th>\n",
       "      <td>6.000000</td>\n",
       "      <td>6.000000</td>\n",
       "      <td>6.000000</td>\n",
       "      <td>8.000000</td>\n",
       "      <td>9.000000</td>\n",
       "      <td>7.000000</td>\n",
       "      <td>6.000000</td>\n",
       "      <td>5.000000</td>\n",
       "      <td>13.00000</td>\n",
       "      <td>8.000000</td>\n",
       "    </tr>\n",
       "  </tbody>\n",
       "</table>\n",
       "</div>"
      ],
      "text/plain": [
       "       t1_numWords  t2_numWords  t3_numWords  t4_numWords  t5_numWords  \\\n",
       "count     6.000000     6.000000     6.000000     6.000000     6.000000   \n",
       "mean      4.666667     4.833333     4.333333     6.166667     5.833333   \n",
       "std       1.366260     1.169045     1.032796     1.329160     2.483277   \n",
       "min       3.000000     3.000000     3.000000     5.000000     2.000000   \n",
       "25%       3.500000     4.250000     4.000000     5.000000     4.500000   \n",
       "50%       5.000000     5.000000     4.000000     6.000000     6.500000   \n",
       "75%       5.750000     5.750000     4.750000     7.000000     7.000000   \n",
       "max       6.000000     6.000000     6.000000     8.000000     9.000000   \n",
       "\n",
       "       t6_numWords  t7_numWords  t8_numWords  t9_numWords  t10_numWords  \n",
       "count     6.000000     6.000000     6.000000      6.00000      6.000000  \n",
       "mean      5.833333     4.500000     3.000000      6.50000      6.000000  \n",
       "std       1.169045     1.048809     1.264911      4.84768      1.788854  \n",
       "min       4.000000     3.000000     2.000000      2.00000      3.000000  \n",
       "25%       5.250000     4.000000     2.000000      2.25000      5.250000  \n",
       "50%       6.000000     4.500000     2.500000      5.50000      6.500000  \n",
       "75%       6.750000     5.000000     3.750000     10.25000      7.000000  \n",
       "max       7.000000     6.000000     5.000000     13.00000      8.000000  "
      ]
     },
     "execution_count": 13,
     "metadata": {},
     "output_type": "execute_result"
    }
   ],
   "source": [
    "large_df[[\"t1_numWords\",\"t2_numWords\",\"t3_numWords\",\"t4_numWords\",\"t5_numWords\",\"t6_numWords\",\"t7_numWords\",\"t8_numWords\",\"t9_numWords\",\"t10_numWords\"]].describe()"
   ]
  },
  {
   "cell_type": "markdown",
   "metadata": {},
   "source": [
    "### Categories ###"
   ]
  },
  {
   "cell_type": "code",
   "execution_count": 14,
   "metadata": {},
   "outputs": [
    {
     "data": {
      "image/png": "[encoded data removed]",
      "text/plain": [
       "<Figure size 1440x720 with 10 Axes>"
      ]
     },
     "metadata": {},
     "output_type": "display_data"
    }
   ],
   "source": [
    "fig = plt.figure(figsize=(20.0, 10.0))\n",
    "fig.suptitle(\"Count of Response Type (Small)\")\n",
    "index = 1\n",
    "\n",
    "cols = [\"t1_type\",\"t2_type\",\"t3_type\",\"t4_type\",\"t5_type\",\"t6_type\",\"t7_type\",\"t8_type\",\"t9_type\",\"t10_type\"]\n",
    "for c in cols:\n",
    "    plt.subplot(2, 5, index)\n",
    "    ax = sns.countplot(x=c, palette=type_color, order=[\"I\", \"S\", \"F\", \"C\"], data=small_df)\n",
    "    ax.set_ylim(0, 6)\n",
    "    \n",
    "    index = index + 1\n",
    "    \n",
    "plt.savefig(\"../figures/type_small.png\", bbox_inches=\"tight\")"
   ]
  },
  {
   "cell_type": "code",
   "execution_count": 15,
   "metadata": {},
   "outputs": [
    {
     "data": {
      "image/png": "[encoded data removed]",
      "text/plain": [
       "<Figure size 1440x720 with 10 Axes>"
      ]
     },
     "metadata": {},
     "output_type": "display_data"
    }
   ],
   "source": [
    "fig = plt.figure(figsize=(20.0, 10.0))\n",
    "fig.suptitle(\"Count of Response Types (Medium)\")\n",
    "index = 1\n",
    "\n",
    "cols = [\"t1_type\",\"t2_type\",\"t3_type\",\"t4_type\",\"t5_type\",\"t6_type\",\"t7_type\",\"t8_type\",\"t9_type\",\"t10_type\"]\n",
    "for c in cols:\n",
    "    plt.subplot(2, 5, index)\n",
    "    ax = sns.countplot(x=c, palette=type_color, order=[\"I\", \"S\", \"F\", \"C\"], data=med_df)\n",
    "    ax.set_ylim(0, 6)\n",
    "    \n",
    "    index = index + 1\n",
    "    \n",
    "plt.savefig(\"../figures/type_med.png\", bbox_inches=\"tight\")"
   ]
  },
  {
   "cell_type": "code",
   "execution_count": 16,
   "metadata": {},
   "outputs": [
    {
     "data": {
      "image/png": "[encoded data removed]",
      "text/plain": [
       "<Figure size 1440x720 with 10 Axes>"
      ]
     },
     "metadata": {},
     "output_type": "display_data"
    }
   ],
   "source": [
    "fig = plt.figure(figsize=(20.0, 10.0))\n",
    "fig.suptitle(\"Count of Response Types (Large)\")\n",
    "index = 1\n",
    "\n",
    "cols = [\"t1_type\",\"t2_type\",\"t3_type\",\"t4_type\",\"t5_type\",\"t6_type\",\"t7_type\",\"t8_type\",\"t9_type\",\"t10_type\"]\n",
    "for c in cols:\n",
    "    plt.subplot(2, 5, index)\n",
    "    ax = sns.countplot(x=c, palette=type_color, order=[\"I\", \"S\", \"F\", \"C\"], data=large_df)\n",
    "    ax.set_ylim(0, 6)\n",
    "    \n",
    "    index = index + 1\n",
    "    \n",
    "plt.savefig(\"../figures/type_large.png\", bbox_inches=\"tight\")"
   ]
  },
  {
   "cell_type": "markdown",
   "metadata": {},
   "source": [
    "### Number of Failed Tasks ###\n",
    "\n",
    "The number of unsuccessful attempts for each task and each screen size is calculated."
   ]
  },
  {
   "cell_type": "code",
   "execution_count": 17,
   "metadata": {},
   "outputs": [
    {
     "data": {
      "image/png": "[encoded data removed]",
      "text/plain": [
       "<Figure size 1440x720 with 10 Axes>"
      ]
     },
     "metadata": {},
     "output_type": "display_data"
    }
   ],
   "source": [
    "fig = plt.figure(figsize=(20.0, 10.0))\n",
    "fig.suptitle(\"Count of Successful Responses (Small)\")\n",
    "index = 1\n",
    "\n",
    "cols = [\"t1_isSuccess\",\"t2_isSuccess\",\"t3_isSuccess\",\"t4_isSuccess\",\"t5_isSuccess\",\"t6_isSuccess\",\"t7_isSuccess\",\"t8_isSuccess\",\"t9_isSuccess\",\"t10_isSuccess\"]\n",
    "for c in cols:\n",
    "    plt.subplot(2, 5, index)\n",
    "    ax = sns.countplot(x=c, palette=tf_color, order=[False, True], data=small_df)\n",
    "    ax.set_ylim(0, 6)\n",
    "    \n",
    "    index = index + 1\n",
    "    \n",
    "plt.savefig(\"../figures/success_small.png\", bbox_inches=\"tight\")"
   ]
  },
  {
   "cell_type": "code",
   "execution_count": 18,
   "metadata": {},
   "outputs": [
    {
     "data": {
      "image/png": "[encoded data removed]",
      "text/plain": [
       "<Figure size 1440x720 with 10 Axes>"
      ]
     },
     "metadata": {},
     "output_type": "display_data"
    }
   ],
   "source": [
    "fig = plt.figure(figsize=(20.0, 10.0))\n",
    "fig.suptitle(\"Count of Successful Responses (Medium)\")\n",
    "index = 1\n",
    "\n",
    "cols = [\"t1_isSuccess\",\"t2_isSuccess\",\"t3_isSuccess\",\"t4_isSuccess\",\"t5_isSuccess\",\"t6_isSuccess\",\"t7_isSuccess\",\"t8_isSuccess\",\"t9_isSuccess\",\"t10_isSuccess\"]\n",
    "for c in cols:\n",
    "    plt.subplot(2, 5, index)\n",
    "    ax = sns.countplot(x=c, palette=tf_color, order=[False, True], data=med_df)\n",
    "    ax.set_ylim(0, 6)\n",
    "    \n",
    "    index = index + 1\n",
    "    \n",
    "plt.savefig(\"../figures/success_med.png\", bbox_inches=\"tight\")"
   ]
  },
  {
   "cell_type": "code",
   "execution_count": 19,
   "metadata": {},
   "outputs": [
    {
     "data": {
      "image/png": "[encoded data removed]",
      "text/plain": [
       "<Figure size 1440x720 with 10 Axes>"
      ]
     },
     "metadata": {},
     "output_type": "display_data"
    }
   ],
   "source": [
    "fig = plt.figure(figsize=(20.0, 10.0))\n",
    "fig.suptitle(\"Count of Successful Responses (Large)\")\n",
    "index = 1\n",
    "\n",
    "cols = [\"t1_isSuccess\",\"t2_isSuccess\",\"t3_isSuccess\",\"t4_isSuccess\",\"t5_isSuccess\",\"t6_isSuccess\",\"t7_isSuccess\",\"t8_isSuccess\",\"t9_isSuccess\",\"t10_isSuccess\"]\n",
    "for c in cols:\n",
    "    plt.subplot(2, 5, index)\n",
    "    ax = sns.countplot(x=c, palette=tf_color, order=[False, True], data=large_df)\n",
    "    ax.set_ylim(0, 6)\n",
    "    \n",
    "    index = index + 1\n",
    "    \n",
    "plt.savefig(\"../figures/success_large.png\", bbox_inches=\"tight\")"
   ]
  },
  {
   "cell_type": "markdown",
   "metadata": {},
   "source": [
    "## Descriptive Stats by Major ##\n",
    "\n",
    "The data is now broken up by major. This is done to answer the research question about major having an impact on the data."
   ]
  },
  {
   "cell_type": "markdown",
   "metadata": {},
   "source": [
    "### Major Breakdown ###"
   ]
  },
  {
   "cell_type": "code",
   "execution_count": 20,
   "metadata": {},
   "outputs": [],
   "source": [
    "cs_df = task_df[task_df[\"major\"] == \"Computer Science\"]\n",
    "ed_df = task_df[task_df[\"major\"] == \"Education\"]"
   ]
  },
  {
   "cell_type": "code",
   "execution_count": 21,
   "metadata": {},
   "outputs": [
    {
     "data": {
      "text/plain": [
       "Education           12\n",
       "Computer Science     6\n",
       "Name: major, dtype: int64"
      ]
     },
     "execution_count": 21,
     "metadata": {},
     "output_type": "execute_result"
    }
   ],
   "source": [
    "majors = task_df[\"major\"].value_counts()\n",
    "majors"
   ]
  },
  {
   "cell_type": "code",
   "execution_count": 22,
   "metadata": {},
   "outputs": [
    {
     "data": {
      "image/png": "[encoded data removed]",
      "text/plain": [
       "<Figure size 432x288 with 1 Axes>"
      ]
     },
     "metadata": {},
     "output_type": "display_data"
    }
   ],
   "source": [
    "fig = plt.figure(facecolor=\"white\")\n",
    "ax = majors.plot.pie(title=\"Ratio of Majors\")\n",
    "ax.set_ylabel(\"\")\n",
    "\n",
    "plt.savefig(\"../figures/major_ratio.png\", bbox_inches=\"tight\")"
   ]
  },
  {
   "cell_type": "code",
   "execution_count": 23,
   "metadata": {},
   "outputs": [
    {
     "data": {
      "image/png": "[encoded data removed]",
      "text/plain": [
       "<Figure size 432x288 with 1 Axes>"
      ]
     },
     "metadata": {},
     "output_type": "display_data"
    }
   ],
   "source": [
    "majors.plot(kind=\"bar\", title=\"Number per Major\")\n",
    "\n",
    "plt.savefig(\"../figures/major_count.png\", bbox_inches=\"tight\")"
   ]
  },
  {
   "cell_type": "code",
   "execution_count": 24,
   "metadata": {},
   "outputs": [
    {
     "data": {
      "text/html": [
       "<div>\n",
       "<style scoped>\n",
       "    .dataframe tbody tr th:only-of-type {\n",
       "        vertical-align: middle;\n",
       "    }\n",
       "\n",
       "    .dataframe tbody tr th {\n",
       "        vertical-align: top;\n",
       "    }\n",
       "\n",
       "    .dataframe thead th {\n",
       "        text-align: right;\n",
       "    }\n",
       "</style>\n",
       "<table border=\"1\" class=\"dataframe\">\n",
       "  <thead>\n",
       "    <tr style=\"text-align: right;\">\n",
       "      <th></th>\n",
       "      <th>t1_numWords</th>\n",
       "      <th>t2_numWords</th>\n",
       "      <th>t3_numWords</th>\n",
       "      <th>t4_numWords</th>\n",
       "      <th>t5_numWords</th>\n",
       "      <th>t6_numWords</th>\n",
       "      <th>t7_numWords</th>\n",
       "      <th>t8_numWords</th>\n",
       "      <th>t9_numWords</th>\n",
       "      <th>t10_numWords</th>\n",
       "    </tr>\n",
       "  </thead>\n",
       "  <tbody>\n",
       "    <tr>\n",
       "      <th>count</th>\n",
       "      <td>6.000000</td>\n",
       "      <td>6.000000</td>\n",
       "      <td>6.000000</td>\n",
       "      <td>6.000000</td>\n",
       "      <td>6.000000</td>\n",
       "      <td>6.000000</td>\n",
       "      <td>6.000000</td>\n",
       "      <td>6.000000</td>\n",
       "      <td>6.000000</td>\n",
       "      <td>6.000000</td>\n",
       "    </tr>\n",
       "    <tr>\n",
       "      <th>mean</th>\n",
       "      <td>5.333333</td>\n",
       "      <td>5.333333</td>\n",
       "      <td>4.500000</td>\n",
       "      <td>6.333333</td>\n",
       "      <td>6.833333</td>\n",
       "      <td>5.833333</td>\n",
       "      <td>5.333333</td>\n",
       "      <td>2.666667</td>\n",
       "      <td>6.500000</td>\n",
       "      <td>6.666667</td>\n",
       "    </tr>\n",
       "    <tr>\n",
       "      <th>std</th>\n",
       "      <td>1.505545</td>\n",
       "      <td>1.366260</td>\n",
       "      <td>2.428992</td>\n",
       "      <td>1.211060</td>\n",
       "      <td>1.722401</td>\n",
       "      <td>0.752773</td>\n",
       "      <td>1.032796</td>\n",
       "      <td>1.211060</td>\n",
       "      <td>4.929503</td>\n",
       "      <td>0.816497</td>\n",
       "    </tr>\n",
       "    <tr>\n",
       "      <th>min</th>\n",
       "      <td>3.000000</td>\n",
       "      <td>3.000000</td>\n",
       "      <td>2.000000</td>\n",
       "      <td>5.000000</td>\n",
       "      <td>4.000000</td>\n",
       "      <td>5.000000</td>\n",
       "      <td>4.000000</td>\n",
       "      <td>2.000000</td>\n",
       "      <td>2.000000</td>\n",
       "      <td>6.000000</td>\n",
       "    </tr>\n",
       "    <tr>\n",
       "      <th>25%</th>\n",
       "      <td>4.500000</td>\n",
       "      <td>5.000000</td>\n",
       "      <td>3.250000</td>\n",
       "      <td>5.250000</td>\n",
       "      <td>6.250000</td>\n",
       "      <td>5.250000</td>\n",
       "      <td>5.000000</td>\n",
       "      <td>2.000000</td>\n",
       "      <td>2.000000</td>\n",
       "      <td>6.000000</td>\n",
       "    </tr>\n",
       "    <tr>\n",
       "      <th>50%</th>\n",
       "      <td>6.000000</td>\n",
       "      <td>5.500000</td>\n",
       "      <td>4.000000</td>\n",
       "      <td>6.500000</td>\n",
       "      <td>7.000000</td>\n",
       "      <td>6.000000</td>\n",
       "      <td>5.000000</td>\n",
       "      <td>2.000000</td>\n",
       "      <td>6.500000</td>\n",
       "      <td>6.500000</td>\n",
       "    </tr>\n",
       "    <tr>\n",
       "      <th>75%</th>\n",
       "      <td>6.000000</td>\n",
       "      <td>6.000000</td>\n",
       "      <td>4.750000</td>\n",
       "      <td>7.000000</td>\n",
       "      <td>7.750000</td>\n",
       "      <td>6.000000</td>\n",
       "      <td>5.750000</td>\n",
       "      <td>2.750000</td>\n",
       "      <td>11.000000</td>\n",
       "      <td>7.000000</td>\n",
       "    </tr>\n",
       "    <tr>\n",
       "      <th>max</th>\n",
       "      <td>7.000000</td>\n",
       "      <td>7.000000</td>\n",
       "      <td>9.000000</td>\n",
       "      <td>8.000000</td>\n",
       "      <td>9.000000</td>\n",
       "      <td>7.000000</td>\n",
       "      <td>7.000000</td>\n",
       "      <td>5.000000</td>\n",
       "      <td>11.000000</td>\n",
       "      <td>8.000000</td>\n",
       "    </tr>\n",
       "  </tbody>\n",
       "</table>\n",
       "</div>"
      ],
      "text/plain": [
       "       t1_numWords  t2_numWords  t3_numWords  t4_numWords  t5_numWords  \\\n",
       "count     6.000000     6.000000     6.000000     6.000000     6.000000   \n",
       "mean      5.333333     5.333333     4.500000     6.333333     6.833333   \n",
       "std       1.505545     1.366260     2.428992     1.211060     1.722401   \n",
       "min       3.000000     3.000000     2.000000     5.000000     4.000000   \n",
       "25%       4.500000     5.000000     3.250000     5.250000     6.250000   \n",
       "50%       6.000000     5.500000     4.000000     6.500000     7.000000   \n",
       "75%       6.000000     6.000000     4.750000     7.000000     7.750000   \n",
       "max       7.000000     7.000000     9.000000     8.000000     9.000000   \n",
       "\n",
       "       t6_numWords  t7_numWords  t8_numWords  t9_numWords  t10_numWords  \n",
       "count     6.000000     6.000000     6.000000     6.000000      6.000000  \n",
       "mean      5.833333     5.333333     2.666667     6.500000      6.666667  \n",
       "std       0.752773     1.032796     1.211060     4.929503      0.816497  \n",
       "min       5.000000     4.000000     2.000000     2.000000      6.000000  \n",
       "25%       5.250000     5.000000     2.000000     2.000000      6.000000  \n",
       "50%       6.000000     5.000000     2.000000     6.500000      6.500000  \n",
       "75%       6.000000     5.750000     2.750000    11.000000      7.000000  \n",
       "max       7.000000     7.000000     5.000000    11.000000      8.000000  "
      ]
     },
     "execution_count": 24,
     "metadata": {},
     "output_type": "execute_result"
    }
   ],
   "source": [
    "cs_df[[\"t1_numWords\",\"t2_numWords\",\"t3_numWords\",\"t4_numWords\",\"t5_numWords\",\"t6_numWords\",\"t7_numWords\",\"t8_numWords\",\"t9_numWords\",\"t10_numWords\"]].describe()"
   ]
  },
  {
   "cell_type": "code",
   "execution_count": 25,
   "metadata": {},
   "outputs": [
    {
     "data": {
      "text/html": [
       "<div>\n",
       "<style scoped>\n",
       "    .dataframe tbody tr th:only-of-type {\n",
       "        vertical-align: middle;\n",
       "    }\n",
       "\n",
       "    .dataframe tbody tr th {\n",
       "        vertical-align: top;\n",
       "    }\n",
       "\n",
       "    .dataframe thead th {\n",
       "        text-align: right;\n",
       "    }\n",
       "</style>\n",
       "<table border=\"1\" class=\"dataframe\">\n",
       "  <thead>\n",
       "    <tr style=\"text-align: right;\">\n",
       "      <th></th>\n",
       "      <th>t1_numWords</th>\n",
       "      <th>t2_numWords</th>\n",
       "      <th>t3_numWords</th>\n",
       "      <th>t4_numWords</th>\n",
       "      <th>t5_numWords</th>\n",
       "      <th>t6_numWords</th>\n",
       "      <th>t7_numWords</th>\n",
       "      <th>t8_numWords</th>\n",
       "      <th>t9_numWords</th>\n",
       "      <th>t10_numWords</th>\n",
       "    </tr>\n",
       "  </thead>\n",
       "  <tbody>\n",
       "    <tr>\n",
       "      <th>count</th>\n",
       "      <td>12.000000</td>\n",
       "      <td>12.000000</td>\n",
       "      <td>12.000000</td>\n",
       "      <td>12.000000</td>\n",
       "      <td>12.000000</td>\n",
       "      <td>12.000000</td>\n",
       "      <td>12.000000</td>\n",
       "      <td>12.000000</td>\n",
       "      <td>12.000000</td>\n",
       "      <td>12.000000</td>\n",
       "    </tr>\n",
       "    <tr>\n",
       "      <th>mean</th>\n",
       "      <td>4.083333</td>\n",
       "      <td>4.166667</td>\n",
       "      <td>4.416667</td>\n",
       "      <td>6.166667</td>\n",
       "      <td>5.333333</td>\n",
       "      <td>5.416667</td>\n",
       "      <td>3.833333</td>\n",
       "      <td>3.000000</td>\n",
       "      <td>7.416667</td>\n",
       "      <td>4.250000</td>\n",
       "    </tr>\n",
       "    <tr>\n",
       "      <th>std</th>\n",
       "      <td>0.996205</td>\n",
       "      <td>1.466804</td>\n",
       "      <td>0.792961</td>\n",
       "      <td>1.749459</td>\n",
       "      <td>2.059715</td>\n",
       "      <td>1.831955</td>\n",
       "      <td>1.527525</td>\n",
       "      <td>1.128152</td>\n",
       "      <td>4.010403</td>\n",
       "      <td>1.712255</td>\n",
       "    </tr>\n",
       "    <tr>\n",
       "      <th>min</th>\n",
       "      <td>3.000000</td>\n",
       "      <td>1.000000</td>\n",
       "      <td>3.000000</td>\n",
       "      <td>3.000000</td>\n",
       "      <td>2.000000</td>\n",
       "      <td>1.000000</td>\n",
       "      <td>1.000000</td>\n",
       "      <td>2.000000</td>\n",
       "      <td>0.000000</td>\n",
       "      <td>2.000000</td>\n",
       "    </tr>\n",
       "    <tr>\n",
       "      <th>25%</th>\n",
       "      <td>3.000000</td>\n",
       "      <td>3.750000</td>\n",
       "      <td>4.000000</td>\n",
       "      <td>5.000000</td>\n",
       "      <td>3.750000</td>\n",
       "      <td>4.750000</td>\n",
       "      <td>3.750000</td>\n",
       "      <td>2.000000</td>\n",
       "      <td>5.000000</td>\n",
       "      <td>3.000000</td>\n",
       "    </tr>\n",
       "    <tr>\n",
       "      <th>50%</th>\n",
       "      <td>4.000000</td>\n",
       "      <td>4.000000</td>\n",
       "      <td>4.000000</td>\n",
       "      <td>6.000000</td>\n",
       "      <td>5.500000</td>\n",
       "      <td>6.000000</td>\n",
       "      <td>4.000000</td>\n",
       "      <td>2.500000</td>\n",
       "      <td>7.500000</td>\n",
       "      <td>3.500000</td>\n",
       "    </tr>\n",
       "    <tr>\n",
       "      <th>75%</th>\n",
       "      <td>5.000000</td>\n",
       "      <td>5.250000</td>\n",
       "      <td>5.000000</td>\n",
       "      <td>7.000000</td>\n",
       "      <td>7.000000</td>\n",
       "      <td>6.250000</td>\n",
       "      <td>5.000000</td>\n",
       "      <td>4.000000</td>\n",
       "      <td>10.250000</td>\n",
       "      <td>5.250000</td>\n",
       "    </tr>\n",
       "    <tr>\n",
       "      <th>max</th>\n",
       "      <td>6.000000</td>\n",
       "      <td>6.000000</td>\n",
       "      <td>6.000000</td>\n",
       "      <td>10.000000</td>\n",
       "      <td>9.000000</td>\n",
       "      <td>8.000000</td>\n",
       "      <td>6.000000</td>\n",
       "      <td>5.000000</td>\n",
       "      <td>13.000000</td>\n",
       "      <td>7.000000</td>\n",
       "    </tr>\n",
       "  </tbody>\n",
       "</table>\n",
       "</div>"
      ],
      "text/plain": [
       "       t1_numWords  t2_numWords  t3_numWords  t4_numWords  t5_numWords  \\\n",
       "count    12.000000    12.000000    12.000000    12.000000    12.000000   \n",
       "mean      4.083333     4.166667     4.416667     6.166667     5.333333   \n",
       "std       0.996205     1.466804     0.792961     1.749459     2.059715   \n",
       "min       3.000000     1.000000     3.000000     3.000000     2.000000   \n",
       "25%       3.000000     3.750000     4.000000     5.000000     3.750000   \n",
       "50%       4.000000     4.000000     4.000000     6.000000     5.500000   \n",
       "75%       5.000000     5.250000     5.000000     7.000000     7.000000   \n",
       "max       6.000000     6.000000     6.000000    10.000000     9.000000   \n",
       "\n",
       "       t6_numWords  t7_numWords  t8_numWords  t9_numWords  t10_numWords  \n",
       "count    12.000000    12.000000    12.000000    12.000000     12.000000  \n",
       "mean      5.416667     3.833333     3.000000     7.416667      4.250000  \n",
       "std       1.831955     1.527525     1.128152     4.010403      1.712255  \n",
       "min       1.000000     1.000000     2.000000     0.000000      2.000000  \n",
       "25%       4.750000     3.750000     2.000000     5.000000      3.000000  \n",
       "50%       6.000000     4.000000     2.500000     7.500000      3.500000  \n",
       "75%       6.250000     5.000000     4.000000    10.250000      5.250000  \n",
       "max       8.000000     6.000000     5.000000    13.000000      7.000000  "
      ]
     },
     "execution_count": 25,
     "metadata": {},
     "output_type": "execute_result"
    }
   ],
   "source": [
    "ed_df[[\"t1_numWords\",\"t2_numWords\",\"t3_numWords\",\"t4_numWords\",\"t5_numWords\",\"t6_numWords\",\"t7_numWords\",\"t8_numWords\",\"t9_numWords\",\"t10_numWords\"]].describe()"
   ]
  },
  {
   "cell_type": "markdown",
   "metadata": {},
   "source": [
    "### Categories ###"
   ]
  },
  {
   "cell_type": "code",
   "execution_count": 26,
   "metadata": {},
   "outputs": [
    {
     "data": {
      "image/png": "[encoded data removed]",
      "text/plain": [
       "<Figure size 1440x720 with 10 Axes>"
      ]
     },
     "metadata": {},
     "output_type": "display_data"
    }
   ],
   "source": [
    "fig = plt.figure(figsize=(20.0, 10.0))\n",
    "fig.suptitle(\"Count of Response Type (Computer Science)\")\n",
    "index = 1\n",
    "\n",
    "cols = [\"t1_type\",\"t2_type\",\"t3_type\",\"t4_type\",\"t5_type\",\"t6_type\",\"t7_type\",\"t8_type\",\"t9_type\",\"t10_type\"]\n",
    "for c in cols:\n",
    "    plt.subplot(2, 5, index)\n",
    "    ax = sns.countplot(x=c, palette=type_color, order=[\"I\", \"S\", \"F\", \"C\"], data=cs_df)\n",
    "    ax.set_ylim(0, 6)\n",
    "    \n",
    "    index = index + 1\n",
    "    \n",
    "plt.savefig(\"../figures/type_cs.png\", bbox_inches=\"tight\")"
   ]
  },
  {
   "cell_type": "code",
   "execution_count": 27,
   "metadata": {},
   "outputs": [
    {
     "data": {
      "image/png": "[encoded data removed]",
      "text/plain": [
       "<Figure size 1440x720 with 10 Axes>"
      ]
     },
     "metadata": {},
     "output_type": "display_data"
    }
   ],
   "source": [
    "fig = plt.figure(figsize=(20.0, 10.0))\n",
    "fig.suptitle(\"Count of Response Types (Education)\")\n",
    "index = 1\n",
    "\n",
    "cols = [\"t1_type\",\"t2_type\",\"t3_type\",\"t4_type\",\"t5_type\",\"t6_type\",\"t7_type\",\"t8_type\",\"t9_type\",\"t10_type\"]\n",
    "for c in cols:\n",
    "    plt.subplot(2, 5, index)\n",
    "    ax = sns.countplot(x=c, palette=type_color, order=[\"I\", \"S\", \"F\", \"C\"], data=ed_df)\n",
    "    ax.set_ylim(0, 12)\n",
    "    \n",
    "    index = index + 1\n",
    "    \n",
    "plt.savefig(\"../figures/type_ed.png\", bbox_inches=\"tight\")"
   ]
  },
  {
   "cell_type": "markdown",
   "metadata": {},
   "source": [
    "### Number of Failed Tasks ###\n",
    "\n",
    "The number of unsuccessful attempts for each task and each screen size is calculated."
   ]
  },
  {
   "cell_type": "code",
   "execution_count": 28,
   "metadata": {},
   "outputs": [
    {
     "data": {
      "image/png": "[encoded data removed]",
      "text/plain": [
       "<Figure size 1440x720 with 10 Axes>"
      ]
     },
     "metadata": {},
     "output_type": "display_data"
    }
   ],
   "source": [
    "fig = plt.figure(figsize=(20.0, 10.0))\n",
    "fig.suptitle(\"Count of Successful Responses (Computer Science)\")\n",
    "index = 1\n",
    "\n",
    "cols = [\"t1_isSuccess\",\"t2_isSuccess\",\"t3_isSuccess\",\"t4_isSuccess\",\"t5_isSuccess\",\"t6_isSuccess\",\"t7_isSuccess\",\"t8_isSuccess\",\"t9_isSuccess\",\"t10_isSuccess\"]\n",
    "for c in cols:\n",
    "    plt.subplot(2, 5, index)\n",
    "    ax = sns.countplot(x=c, palette=tf_color, order=[False, True], data=cs_df)\n",
    "    ax.set_ylim(0, 6)\n",
    "    \n",
    "    index = index + 1\n",
    "    \n",
    "plt.savefig(\"../figures/success_cs.png\", bbox_inches=\"tight\")"
   ]
  },
  {
   "cell_type": "code",
   "execution_count": 29,
   "metadata": {},
   "outputs": [
    {
     "data": {
      "image/png": "[encoded data removed]",
      "text/plain": [
       "<Figure size 1440x720 with 10 Axes>"
      ]
     },
     "metadata": {},
     "output_type": "display_data"
    }
   ],
   "source": [
    "fig = plt.figure(figsize=(20.0, 10.0))\n",
    "fig.suptitle(\"Count of Successful Responses (Education)\")\n",
    "index = 1\n",
    "\n",
    "cols = [\"t1_isSuccess\",\"t2_isSuccess\",\"t3_isSuccess\",\"t4_isSuccess\",\"t5_isSuccess\",\"t6_isSuccess\",\"t7_isSuccess\",\"t8_isSuccess\",\"t9_isSuccess\",\"t10_isSuccess\"]\n",
    "for c in cols:\n",
    "    plt.subplot(2, 5, index)\n",
    "    ax = sns.countplot(x=c, palette=tf_color, order=[False, True], data=ed_df)\n",
    "    ax.set_ylim(0, 12)\n",
    "    \n",
    "    index = index + 1\n",
    "    \n",
    "plt.savefig(\"../figures/success_ed.png\", bbox_inches=\"tight\")"
   ]
  },
  {
   "cell_type": "markdown",
   "metadata": {},
   "source": [
    "# Inferrential Stats #\n",
    "\n",
    "This section calculates inferrential stats, looking for significant differences betweens screen sizes and major"
   ]
  },
  {
   "cell_type": "markdown",
   "metadata": {},
   "source": [
    "## Screen Size ##"
   ]
  },
  {
   "cell_type": "markdown",
   "metadata": {},
   "source": [
    "### Kruskal-Wallis ###\n",
    "\n",
    "Due to the small sample size, we also try the non-parametric equivalent of ANOVA."
   ]
  },
  {
   "cell_type": "code",
   "execution_count": 30,
   "metadata": {},
   "outputs": [],
   "source": [
    "small = small_df[[\"t1_numWords\",\"t2_numWords\",\"t3_numWords\",\"t4_numWords\",\"t5_numWords\",\"t6_numWords\",\"t7_numWords\",\"t8_numWords\",\"t9_numWords\",\"t10_numWords\"]]\n",
    "med   = med_df[[\"t1_numWords\",\"t2_numWords\",\"t3_numWords\",\"t4_numWords\",\"t5_numWords\",\"t6_numWords\",\"t7_numWords\",\"t8_numWords\",\"t9_numWords\",\"t10_numWords\"]]\n",
    "large = large_df[[\"t1_numWords\",\"t2_numWords\",\"t3_numWords\",\"t4_numWords\",\"t5_numWords\",\"t6_numWords\",\"t7_numWords\",\"t8_numWords\",\"t9_numWords\",\"t10_numWords\"]]"
   ]
  },
  {
   "cell_type": "code",
   "execution_count": 31,
   "metadata": {},
   "outputs": [
    {
     "name": "stdout",
     "output_type": "stream",
     "text": [
      "t1_numWords KruskalResult(statistic=1.2664845173041952, pvalue=0.5308677969758013)\n",
      "t2_numWords KruskalResult(statistic=0.47991313789359263, pvalue=0.7866620258849406)\n",
      "t3_numWords KruskalResult(statistic=0.01311728395060172, pvalue=0.9934628189731214)\n",
      "t4_numWords KruskalResult(statistic=0.2993827160493762, pvalue=0.8609736680347508)\n",
      "t5_numWords KruskalResult(statistic=2.5412681544456097, pvalue=0.2806536092863641)\n",
      "t6_numWords KruskalResult(statistic=0.49220489977728155, pvalue=0.7818421211839877)\n",
      "t7_numWords KruskalResult(statistic=0.578037904124854, pvalue=0.7489980102111085)\n",
      "t8_numWords KruskalResult(statistic=0.12878787878787376, pvalue=0.9376355551838235)\n",
      "t9_numWords KruskalResult(statistic=0.5726315789473629, pvalue=0.7510254125759346)\n",
      "t10_numWords KruskalResult(statistic=2.592133620689655, pvalue=0.2736058230603725)\n"
     ]
    }
   ],
   "source": [
    "for label in [\"t1_numWords\",\"t2_numWords\",\"t3_numWords\",\"t4_numWords\",\"t5_numWords\",\"t6_numWords\",\"t7_numWords\",\"t8_numWords\",\"t9_numWords\",\"t10_numWords\"]:\n",
    "    print(label, stats.kruskal(small[label], med[label], large[label]))"
   ]
  },
  {
   "cell_type": "markdown",
   "metadata": {},
   "source": [
    "### Fisher Exact ###\n",
    "\n",
    "When making a contingency table, some cells will have a count of zero. This leads us to use the Fisher Exact test. To make the 2x2 tables required for this test, the ordinal nature of the data is used to make a total of six tables."
   ]
  },
  {
   "cell_type": "markdown",
   "metadata": {},
   "source": [
    "#### Response Type ####"
   ]
  },
  {
   "cell_type": "code",
   "execution_count": 32,
   "metadata": {},
   "outputs": [],
   "source": [
    "small = small_df[[\"t1_type\",\"t2_type\",\"t3_type\",\"t4_type\",\"t5_type\",\"t6_type\",\"t7_type\",\"t8_type\",\"t9_type\",\"t10_type\"]]\n",
    "med   = med_df[[\"t1_type\",\"t2_type\",\"t3_type\",\"t4_type\",\"t5_type\",\"t6_type\",\"t7_type\",\"t8_type\",\"t9_type\",\"t10_type\"]]\n",
    "large = large_df[[\"t1_type\",\"t2_type\",\"t3_type\",\"t4_type\",\"t5_type\",\"t6_type\",\"t7_type\",\"t8_type\",\"t9_type\",\"t10_type\"]]"
   ]
  },
  {
   "cell_type": "markdown",
   "metadata": {},
   "source": [
    "First, we need to make a table of the counts by type and grid size"
   ]
  },
  {
   "cell_type": "code",
   "execution_count": 33,
   "metadata": {},
   "outputs": [
    {
     "data": {
      "text/plain": [
       "[{'small': [0, 0, 3, 3], 'medium': [0, 0, 1, 5], 'large': [0, 0, 3, 3]},\n",
       " {'small': [0, 0, 4, 2], 'medium': [0, 1, 3, 2], 'large': [0, 0, 3, 3]},\n",
       " {'small': [0, 0, 3, 3], 'medium': [0, 0, 3, 3], 'large': [0, 0, 3, 3]},\n",
       " {'small': [0, 0, 1, 5], 'medium': [0, 0, 2, 4], 'large': [0, 0, 3, 3]},\n",
       " {'small': [0, 0, 1, 5], 'medium': [0, 0, 0, 6], 'large': [0, 0, 2, 4]},\n",
       " {'small': [0, 1, 0, 5], 'medium': [0, 0, 2, 4], 'large': [0, 0, 3, 3]},\n",
       " {'small': [0, 1, 2, 3], 'medium': [0, 1, 2, 3], 'large': [0, 0, 1, 5]},\n",
       " {'small': [0, 0, 1, 5], 'medium': [0, 0, 1, 5], 'large': [0, 0, 0, 6]},\n",
       " {'small': [1, 0, 1, 4], 'medium': [0, 0, 2, 4], 'large': [0, 0, 1, 5]},\n",
       " {'small': [0, 0, 2, 4], 'medium': [0, 0, 4, 2], 'large': [0, 0, 1, 5]}]"
      ]
     },
     "execution_count": 33,
     "metadata": {},
     "output_type": "execute_result"
    }
   ],
   "source": [
    "tasks = []\n",
    "for label in [\"t1_type\",\"t2_type\",\"t3_type\",\"t4_type\",\"t5_type\",\"t6_type\",\"t7_type\",\"t8_type\",\"t9_type\",\"t10_type\"]:\n",
    "\n",
    "    t = {}\n",
    "\n",
    "    s_row = []\n",
    "    m_row = []\n",
    "    l_row = []\n",
    "\n",
    "    s = small[label].value_counts()\n",
    "    m = med[label].value_counts()\n",
    "    l = large[label].value_counts()\n",
    "    \n",
    "    for c in [\"I\", \"S\", \"F\", \"C\"]:\n",
    "        if c in s.index:\n",
    "            s_row.append(s[c])\n",
    "        else:\n",
    "            s_row.append(0)\n",
    "\n",
    "        if c in m.index:\n",
    "            m_row.append(m[c])\n",
    "        else:\n",
    "            m_row.append(0)\n",
    "\n",
    "        if c in l.index:\n",
    "            l_row.append(l[c])\n",
    "        else:\n",
    "            l_row.append(0)\n",
    "\n",
    "    t[\"small\"] = s_row\n",
    "    t[\"medium\"] = m_row\n",
    "    t[\"large\"] = l_row\n",
    "    \n",
    "    tasks.append(t)\n",
    "    \n",
    "tasks"
   ]
  },
  {
   "cell_type": "code",
   "execution_count": 34,
   "metadata": {},
   "outputs": [
    {
     "data": {
      "text/plain": [
       "{'small': [1, 2, 18, 39], 'medium': [0, 2, 20, 38], 'large': [0, 0, 20, 40]}"
      ]
     },
     "execution_count": 34,
     "metadata": {},
     "output_type": "execute_result"
    }
   ],
   "source": [
    "totals = {}\n",
    "\n",
    "s_sums = []\n",
    "m_sums = []\n",
    "l_sums = []\n",
    "\n",
    "for i in range(4):\n",
    "    s_count = 0\n",
    "    m_count = 0\n",
    "    l_count = 0\n",
    "    \n",
    "    for task in tasks:\n",
    "        s_count = s_count + task[\"small\"][i]\n",
    "        m_count = m_count + task[\"medium\"][i]\n",
    "        l_count = l_count + task[\"large\"][i]\n",
    "        \n",
    "    s_sums.append(s_count)\n",
    "    m_sums.append(m_count)\n",
    "    l_sums.append(l_count)\n",
    "    \n",
    "totals[\"small\"] = s_sums\n",
    "totals[\"medium\"] = m_sums\n",
    "totals[\"large\"] = l_sums\n",
    "\n",
    "totals"
   ]
  },
  {
   "cell_type": "code",
   "execution_count": 35,
   "metadata": {},
   "outputs": [
    {
     "data": {
      "text/html": [
       "<div>\n",
       "<style scoped>\n",
       "    .dataframe tbody tr th:only-of-type {\n",
       "        vertical-align: middle;\n",
       "    }\n",
       "\n",
       "    .dataframe tbody tr th {\n",
       "        vertical-align: top;\n",
       "    }\n",
       "\n",
       "    .dataframe thead th {\n",
       "        text-align: right;\n",
       "    }\n",
       "</style>\n",
       "<table border=\"1\" class=\"dataframe\">\n",
       "  <thead>\n",
       "    <tr style=\"text-align: right;\">\n",
       "      <th></th>\n",
       "      <th>small</th>\n",
       "      <th>medium</th>\n",
       "      <th>large</th>\n",
       "    </tr>\n",
       "  </thead>\n",
       "  <tbody>\n",
       "    <tr>\n",
       "      <th>I</th>\n",
       "      <td>1</td>\n",
       "      <td>0</td>\n",
       "      <td>0</td>\n",
       "    </tr>\n",
       "    <tr>\n",
       "      <th>S</th>\n",
       "      <td>2</td>\n",
       "      <td>2</td>\n",
       "      <td>0</td>\n",
       "    </tr>\n",
       "    <tr>\n",
       "      <th>F</th>\n",
       "      <td>18</td>\n",
       "      <td>20</td>\n",
       "      <td>20</td>\n",
       "    </tr>\n",
       "    <tr>\n",
       "      <th>C</th>\n",
       "      <td>39</td>\n",
       "      <td>38</td>\n",
       "      <td>40</td>\n",
       "    </tr>\n",
       "  </tbody>\n",
       "</table>\n",
       "</div>"
      ],
      "text/plain": [
       "   small  medium  large\n",
       "I      1       0      0\n",
       "S      2       2      0\n",
       "F     18      20     20\n",
       "C     39      38     40"
      ]
     },
     "execution_count": 35,
     "metadata": {},
     "output_type": "execute_result"
    }
   ],
   "source": [
    "df = pd.DataFrame(data=totals).rename({0:\"I\", 1:\"S\", 2:\"F\", 3:\"C\"})\n",
    "df"
   ]
  },
  {
   "cell_type": "markdown",
   "metadata": {},
   "source": [
    "Next, we need to make the contingency tables in the 2x2 format needed for the Fisher test."
   ]
  },
  {
   "cell_type": "code",
   "execution_count": 36,
   "metadata": {},
   "outputs": [
    {
     "data": {
      "text/plain": [
       "[{'=S': [1, 59], '>S': [0, 120]},\n",
       " {'<=M': [1, 119], '>M': [0, 60]},\n",
       " {'=S': [3, 57], '>S': [2, 118]},\n",
       " {'<=M': [5, 115], '>M': [0, 60]},\n",
       " {'=S': [21, 39], '>S': [42, 78]},\n",
       " {'<=M': [43, 77], '>M': [20, 40]}]"
      ]
     },
     "execution_count": 36,
     "metadata": {},
     "output_type": "execute_result"
    }
   ],
   "source": [
    "table_list = []\n",
    "\n",
    "for i in range(1, len(df.index)):\n",
    "    table = {}\n",
    "    \n",
    "    col = df[\"small\"]\n",
    "    col2 = df[[\"medium\", \"large\"]]\n",
    "\n",
    "    table[\"=S\"] = [col.iloc[:i].sum(), col.iloc[i:].sum()]\n",
    "    table[\">S\"] = [col2.iloc[:i].sum().sum(), col2.iloc[i:].sum().sum()]\n",
    "\n",
    "    table_list.append(table)\n",
    "\n",
    "    table = {}\n",
    "\n",
    "    col = df[[\"small\", \"medium\"]]\n",
    "    col2 = df[\"large\"]\n",
    "\n",
    "    table[\"<=M\"] = [col.iloc[:i].sum().sum(), col.iloc[i:].sum().sum()]\n",
    "    table[\">M\"] = [col2.iloc[:i].sum(), col2.iloc[i:].sum()]\n",
    "\n",
    "    table_list.append(table)\n",
    "        \n",
    "table_list"
   ]
  },
  {
   "cell_type": "code",
   "execution_count": 37,
   "metadata": {},
   "outputs": [
    {
     "data": {
      "text/plain": [
       "[    =S   >S\n",
       " =I   1    0\n",
       " >I  59  120,\n",
       "     <=M  >M\n",
       " =I    1   0\n",
       " >I  119  60,\n",
       "      =S   >S\n",
       " <=S   3    2\n",
       " >S   57  118,\n",
       "      <=M  >M\n",
       " <=S    5   0\n",
       " >S   115  60,\n",
       "      =S  >S\n",
       " <=F  21  42\n",
       " >F   39  78,\n",
       "      <=M  >M\n",
       " <=F   43  20\n",
       " >F    77  40]"
      ]
     },
     "execution_count": 37,
     "metadata": {},
     "output_type": "execute_result"
    }
   ],
   "source": [
    "df_list = []\n",
    "\n",
    "for i in range(len(table_list)):\n",
    "    temp = pd.DataFrame(table_list[i])\n",
    "    \n",
    "    if i in [0, 1]:\n",
    "        temp = temp.rename({0: \"=I\", 1:\">I\"})\n",
    "    elif i in [2, 3]:\n",
    "        temp = temp.rename({0: \"<=S\", 1:\">S\"})\n",
    "    else:\n",
    "        temp = temp.rename({0: \"<=F\", 1:\">F\"})\n",
    "        \n",
    "    df_list.append(temp)\n",
    "        \n",
    "df_list"
   ]
  },
  {
   "cell_type": "markdown",
   "metadata": {},
   "source": [
    "Now, we can actually run the test!"
   ]
  },
  {
   "cell_type": "code",
   "execution_count": 38,
   "metadata": {},
   "outputs": [
    {
     "data": {
      "text/plain": [
       "[0.3333333333333531,\n",
       " 1.0,\n",
       " 0.33508235325445557,\n",
       " 0.17097501916408664,\n",
       " 1.0,\n",
       " 0.8684775229248227]"
      ]
     },
     "execution_count": 38,
     "metadata": {},
     "output_type": "execute_result"
    }
   ],
   "source": [
    "p_values = []\n",
    "for df in df_list:\n",
    "    oddsration, p_value = stats.fisher_exact(df)\n",
    "    p_values.append(p_value)\n",
    "    \n",
    "p_values"
   ]
  },
  {
   "cell_type": "code",
   "execution_count": 39,
   "metadata": {},
   "outputs": [
    {
     "data": {
      "text/plain": [
       "(array([False, False, False, False, False, False]),\n",
       " array([1., 1., 1., 1., 1., 1.]),\n",
       " 0.008512444610847103,\n",
       " 0.008333333333333333)"
      ]
     },
     "execution_count": 39,
     "metadata": {},
     "output_type": "execute_result"
    }
   ],
   "source": [
    "sm.stats.multipletests(p_values, method=\"holm\")"
   ]
  },
  {
   "cell_type": "markdown",
   "metadata": {},
   "source": [
    "#### Successful Response ####"
   ]
  },
  {
   "cell_type": "markdown",
   "metadata": {},
   "source": [
    "First, we need to make a table of the counts by success and grid size"
   ]
  },
  {
   "cell_type": "code",
   "execution_count": 40,
   "metadata": {},
   "outputs": [],
   "source": [
    "small = small_df[[\"t1_isSuccess\",\"t2_isSuccess\",\"t3_isSuccess\",\"t4_isSuccess\",\"t5_isSuccess\",\"t6_isSuccess\",\"t7_isSuccess\",\"t8_isSuccess\",\"t9_isSuccess\",\"t10_isSuccess\"]]\n",
    "med   = med_df[[\"t1_isSuccess\",\"t2_isSuccess\",\"t3_isSuccess\",\"t4_isSuccess\",\"t5_isSuccess\",\"t6_isSuccess\",\"t7_isSuccess\",\"t8_isSuccess\",\"t9_isSuccess\",\"t10_isSuccess\"]]\n",
    "large = large_df[[\"t1_isSuccess\",\"t2_isSuccess\",\"t3_isSuccess\",\"t4_isSuccess\",\"t5_isSuccess\",\"t6_isSuccess\",\"t7_isSuccess\",\"t8_isSuccess\",\"t9_isSuccess\",\"t10_isSuccess\"]]"
   ]
  },
  {
   "cell_type": "code",
   "execution_count": 41,
   "metadata": {},
   "outputs": [
    {
     "data": {
      "text/plain": [
       "[{'small': [0, 6], 'medium': [0, 6], 'large': [0, 6]},\n",
       " {'small': [0, 6], 'medium': [0, 6], 'large': [0, 6]},\n",
       " {'small': [0, 6], 'medium': [0, 6], 'large': [0, 6]},\n",
       " {'small': [0, 6], 'medium': [0, 6], 'large': [0, 6]},\n",
       " {'small': [0, 6], 'medium': [1, 5], 'large': [0, 6]},\n",
       " {'small': [1, 5], 'medium': [0, 6], 'large': [0, 6]},\n",
       " {'small': [0, 6], 'medium': [0, 6], 'large': [0, 6]},\n",
       " {'small': [0, 6], 'medium': [0, 6], 'large': [0, 6]},\n",
       " {'small': [1, 5], 'medium': [2, 4], 'large': [0, 6]},\n",
       " {'small': [0, 6], 'medium': [0, 6], 'large': [0, 6]}]"
      ]
     },
     "execution_count": 41,
     "metadata": {},
     "output_type": "execute_result"
    }
   ],
   "source": [
    "responses = []\n",
    "\n",
    "for label in [\"t1_isSuccess\",\"t2_isSuccess\",\"t3_isSuccess\",\"t4_isSuccess\",\"t5_isSuccess\",\"t6_isSuccess\",\"t7_isSuccess\",\"t8_isSuccess\",\"t9_isSuccess\",\"t10_isSuccess\"]:\n",
    "    r = {}\n",
    "    \n",
    "    s_row = []\n",
    "    m_row = []\n",
    "    l_row = []\n",
    "    \n",
    "    s = small[label].value_counts()\n",
    "    m = med[label].value_counts()\n",
    "    l = large[label].value_counts()\n",
    "    \n",
    "    for c in [False, True]:\n",
    "        if c in s.index:\n",
    "            s_row.append(s[c])\n",
    "        else:\n",
    "            s_row.append(0)\n",
    "\n",
    "        if c in m.index:\n",
    "            m_row.append(m[c])\n",
    "        else:\n",
    "            m_row.append(0)\n",
    "\n",
    "        if c in l.index:\n",
    "            l_row.append(l[c])\n",
    "        else:\n",
    "            l_row.append(0)\n",
    "            \n",
    "    r[\"small\"] = s_row\n",
    "    r[\"medium\"] = m_row\n",
    "    r[\"large\"] = l_row\n",
    "    \n",
    "    responses.append(r)\n",
    "    \n",
    "responses"
   ]
  },
  {
   "cell_type": "code",
   "execution_count": 42,
   "metadata": {},
   "outputs": [
    {
     "data": {
      "text/plain": [
       "{'small': [2, 58], 'medium': [3, 57], 'large': [0, 60]}"
      ]
     },
     "execution_count": 42,
     "metadata": {},
     "output_type": "execute_result"
    }
   ],
   "source": [
    "totals = {}\n",
    "\n",
    "s_sums = []\n",
    "m_sums = []\n",
    "l_sums = []\n",
    "\n",
    "for i in range(2):\n",
    "    s_count = 0\n",
    "    m_count = 0\n",
    "    l_count = 0\n",
    "    \n",
    "    for response in responses:\n",
    "        s_count = s_count + response[\"small\"][i]\n",
    "        m_count = m_count + response[\"medium\"][i]\n",
    "        l_count = l_count + response[\"large\"][i]\n",
    "        \n",
    "    s_sums.append(s_count)\n",
    "    m_sums.append(m_count)\n",
    "    l_sums.append(l_count)\n",
    "    \n",
    "totals[\"small\"] = s_sums\n",
    "totals[\"medium\"] = m_sums\n",
    "totals[\"large\"] = l_sums\n",
    "\n",
    "totals"
   ]
  },
  {
   "cell_type": "code",
   "execution_count": 43,
   "metadata": {},
   "outputs": [
    {
     "data": {
      "text/html": [
       "<div>\n",
       "<style scoped>\n",
       "    .dataframe tbody tr th:only-of-type {\n",
       "        vertical-align: middle;\n",
       "    }\n",
       "\n",
       "    .dataframe tbody tr th {\n",
       "        vertical-align: top;\n",
       "    }\n",
       "\n",
       "    .dataframe thead th {\n",
       "        text-align: right;\n",
       "    }\n",
       "</style>\n",
       "<table border=\"1\" class=\"dataframe\">\n",
       "  <thead>\n",
       "    <tr style=\"text-align: right;\">\n",
       "      <th></th>\n",
       "      <th>small</th>\n",
       "      <th>medium</th>\n",
       "      <th>large</th>\n",
       "    </tr>\n",
       "  </thead>\n",
       "  <tbody>\n",
       "    <tr>\n",
       "      <th>False</th>\n",
       "      <td>2</td>\n",
       "      <td>3</td>\n",
       "      <td>0</td>\n",
       "    </tr>\n",
       "    <tr>\n",
       "      <th>True</th>\n",
       "      <td>58</td>\n",
       "      <td>57</td>\n",
       "      <td>60</td>\n",
       "    </tr>\n",
       "  </tbody>\n",
       "</table>\n",
       "</div>"
      ],
      "text/plain": [
       "       small  medium  large\n",
       "False      2       3      0\n",
       "True      58      57     60"
      ]
     },
     "execution_count": 43,
     "metadata": {},
     "output_type": "execute_result"
    }
   ],
   "source": [
    "df = pd.DataFrame(data=totals).rename({0:\"False\", 1:\"True\"})\n",
    "df"
   ]
  },
  {
   "cell_type": "markdown",
   "metadata": {},
   "source": [
    "Next, we need to make the contingency tables in the 2x2 format needed for the Fisher test."
   ]
  },
  {
   "cell_type": "code",
   "execution_count": 44,
   "metadata": {},
   "outputs": [
    {
     "data": {
      "text/plain": [
       "[{'S': [2, 58], '>S': [3, 117]}, {'<L': [5, 115], 'L': [0, 60]}]"
      ]
     },
     "execution_count": 44,
     "metadata": {},
     "output_type": "execute_result"
    }
   ],
   "source": [
    "table_list = []\n",
    "\n",
    "for i in range(1, len(df.index)):\n",
    "    table = {}\n",
    "    \n",
    "    col = df[\"small\"]\n",
    "    col2 = df[[\"medium\", \"large\"]]\n",
    "\n",
    "    table[\"S\"] = [col.iloc[:i].sum(), col.iloc[i:].sum()]\n",
    "    table[\">S\"] = [col2.iloc[:i].sum().sum(), col2.iloc[i:].sum().sum()]\n",
    "\n",
    "    table_list.append(table)\n",
    "\n",
    "    table = {}\n",
    "\n",
    "    col = df[[\"small\", \"medium\"]]\n",
    "    col2 = df[\"large\"]\n",
    "\n",
    "    table[\"<L\"] = [col.iloc[:i].sum().sum(), col.iloc[i:].sum().sum()]\n",
    "    table[\"L\"] = [col2.iloc[:i].sum(), col2.iloc[i:].sum()]\n",
    "\n",
    "    table_list.append(table)\n",
    "        \n",
    "table_list"
   ]
  },
  {
   "cell_type": "code",
   "execution_count": 45,
   "metadata": {},
   "outputs": [
    {
     "data": {
      "text/plain": [
       "[    S   >S\n",
       " F   2    3\n",
       " T  58  117,\n",
       "     <L   L\n",
       " F    5   0\n",
       " T  115  60]"
      ]
     },
     "execution_count": 45,
     "metadata": {},
     "output_type": "execute_result"
    }
   ],
   "source": [
    "df_list = []\n",
    "\n",
    "for i in range(len(table_list)):\n",
    "    df_list.append(pd.DataFrame(table_list[i]).rename({0: \"F\", 1: \"T\"}))\n",
    "        \n",
    "df_list"
   ]
  },
  {
   "cell_type": "markdown",
   "metadata": {},
   "source": [
    "Now, we can actually run the test!"
   ]
  },
  {
   "cell_type": "code",
   "execution_count": 46,
   "metadata": {},
   "outputs": [
    {
     "data": {
      "text/plain": [
       "[1.0, 0.17097501916408664]"
      ]
     },
     "execution_count": 46,
     "metadata": {},
     "output_type": "execute_result"
    }
   ],
   "source": [
    "p_values = []\n",
    "for df in df_list:\n",
    "    oddsration, p_value = stats.fisher_exact(df)\n",
    "    p_values.append(p_value)\n",
    "    \n",
    "p_values"
   ]
  },
  {
   "cell_type": "code",
   "execution_count": 47,
   "metadata": {},
   "outputs": [
    {
     "data": {
      "text/plain": [
       "(array([False, False]),\n",
       " array([1.        , 0.34195004]),\n",
       " 0.025320565519103666,\n",
       " 0.025)"
      ]
     },
     "execution_count": 47,
     "metadata": {},
     "output_type": "execute_result"
    }
   ],
   "source": [
    "sm.stats.multipletests(p_values, method=\"holm\")"
   ]
  },
  {
   "cell_type": "markdown",
   "metadata": {},
   "source": [
    "## Major ##"
   ]
  },
  {
   "cell_type": "markdown",
   "metadata": {},
   "source": [
    "### Kruskal-Wallis ###\n",
    "\n",
    "Due to the small sample size, we also try the non-parametric equivalent of ANOVA."
   ]
  },
  {
   "cell_type": "code",
   "execution_count": 48,
   "metadata": {},
   "outputs": [],
   "source": [
    "cs = cs_df[[\"t1_numWords\",\"t2_numWords\",\"t3_numWords\",\"t4_numWords\",\"t5_numWords\",\"t6_numWords\",\"t7_numWords\",\"t8_numWords\",\"t9_numWords\",\"t10_numWords\"]]\n",
    "ed = ed_df[[\"t1_numWords\",\"t2_numWords\",\"t3_numWords\",\"t4_numWords\",\"t5_numWords\",\"t6_numWords\",\"t7_numWords\",\"t8_numWords\",\"t9_numWords\",\"t10_numWords\"]]"
   ]
  },
  {
   "cell_type": "code",
   "execution_count": 49,
   "metadata": {},
   "outputs": [
    {
     "name": "stdout",
     "output_type": "stream",
     "text": [
      "t1_numWords KruskalResult(statistic=3.17937158469945, pvalue=0.07457340490188132)\n",
      "t2_numWords KruskalResult(statistic=2.362649294245385, pvalue=0.12427098264036776)\n",
      "t3_numWords KruskalResult(statistic=0.41565393518518506, pvalue=0.5191136512609111)\n",
      "t4_numWords KruskalResult(statistic=0.11342592592592539, pvalue=0.7362769783410716)\n",
      "t5_numWords KruskalResult(statistic=2.312433581296493, pvalue=0.12834297352662602)\n",
      "t6_numWords KruskalResult(statistic=0.08518930957683217, pvalue=0.7703844333585914)\n",
      "t7_numWords KruskalResult(statistic=4.380295429208471, pvalue=0.036356695374751995)\n",
      "t8_numWords KruskalResult(statistic=0.38636363636362997, pvalue=0.5342170490077567)\n",
      "t9_numWords KruskalResult(statistic=0.18118421052631006, pvalue=0.670357517777967)\n",
      "t10_numWords KruskalResult(statistic=6.432246767241373, pvalue=0.011206673046383788)\n"
     ]
    }
   ],
   "source": [
    "for label in [\"t1_numWords\",\"t2_numWords\",\"t3_numWords\",\"t4_numWords\",\"t5_numWords\",\"t6_numWords\",\"t7_numWords\",\"t8_numWords\",\"t9_numWords\",\"t10_numWords\"]:\n",
    "    print(label, stats.kruskal(cs[label], ed[label]))"
   ]
  },
  {
   "cell_type": "markdown",
   "metadata": {},
   "source": [
    "### Fisher Exact ###\n",
    "\n",
    "When making a contingency table, some cells will have a count of zero. This leads us to use the Fisher Exact test. To make the 2x2 tables required for this test, the ordinal nature of the data is used to make a total of six tables."
   ]
  },
  {
   "cell_type": "markdown",
   "metadata": {},
   "source": [
    "#### Response Type ####"
   ]
  },
  {
   "cell_type": "markdown",
   "metadata": {},
   "source": [
    "First, we need to make a table of the counts by type and major"
   ]
  },
  {
   "cell_type": "code",
   "execution_count": 50,
   "metadata": {},
   "outputs": [],
   "source": [
    "cs = cs_df[[\"t1_type\",\"t2_type\",\"t3_type\",\"t4_type\",\"t5_type\",\"t6_type\",\"t7_type\",\"t8_type\",\"t9_type\",\"t10_type\"]]\n",
    "ed = ed_df[[\"t1_type\",\"t2_type\",\"t3_type\",\"t4_type\",\"t5_type\",\"t6_type\",\"t7_type\",\"t8_type\",\"t9_type\",\"t10_type\"]]"
   ]
  },
  {
   "cell_type": "code",
   "execution_count": 51,
   "metadata": {},
   "outputs": [
    {
     "data": {
      "text/plain": [
       "[{'cs': [0, 0, 3, 3], 'ed': [0, 0, 4, 8]},\n",
       " {'cs': [0, 0, 2, 4], 'ed': [0, 1, 8, 3]},\n",
       " {'cs': [0, 0, 3, 3], 'ed': [0, 0, 6, 6]},\n",
       " {'cs': [0, 0, 4, 2], 'ed': [0, 0, 2, 10]},\n",
       " {'cs': [0, 0, 1, 5], 'ed': [0, 0, 2, 10]},\n",
       " {'cs': [0, 0, 3, 3], 'ed': [0, 1, 2, 9]},\n",
       " {'cs': [0, 0, 2, 4], 'ed': [0, 2, 3, 7]},\n",
       " {'cs': [0, 0, 0, 6], 'ed': [0, 0, 2, 10]},\n",
       " {'cs': [0, 0, 1, 5], 'ed': [1, 0, 3, 8]},\n",
       " {'cs': [0, 0, 2, 4], 'ed': [0, 0, 5, 7]}]"
      ]
     },
     "execution_count": 51,
     "metadata": {},
     "output_type": "execute_result"
    }
   ],
   "source": [
    "tasks = []\n",
    "for label in [\"t1_type\",\"t2_type\",\"t3_type\",\"t4_type\",\"t5_type\",\"t6_type\",\"t7_type\",\"t8_type\",\"t9_type\",\"t10_type\"]:\n",
    "\n",
    "    t = {}\n",
    "\n",
    "    c_row = []\n",
    "    e_row = []\n",
    "\n",
    "    c = cs[label].value_counts()\n",
    "    e = ed[label].value_counts()\n",
    "    \n",
    "    for val in [\"I\", \"S\", \"F\", \"C\"]:\n",
    "        if val in c.index:\n",
    "            c_row.append(c[val])\n",
    "        else:\n",
    "            c_row.append(0)\n",
    "\n",
    "        if val in e.index:\n",
    "            e_row.append(e[val])\n",
    "        else:\n",
    "            e_row.append(0)\n",
    "\n",
    "    t[\"cs\"] = c_row\n",
    "    t[\"ed\"] = e_row\n",
    "    \n",
    "    tasks.append(t)\n",
    "    \n",
    "tasks"
   ]
  },
  {
   "cell_type": "code",
   "execution_count": 52,
   "metadata": {},
   "outputs": [
    {
     "data": {
      "text/plain": [
       "{'cs': [0, 0, 21, 39], 'ed': [1, 4, 37, 78]}"
      ]
     },
     "execution_count": 52,
     "metadata": {},
     "output_type": "execute_result"
    }
   ],
   "source": [
    "totals = {}\n",
    "\n",
    "c_sums = []\n",
    "e_sums = []\n",
    "\n",
    "for i in range(4):\n",
    "    c_count = 0\n",
    "    e_count = 0\n",
    "    \n",
    "    for task in tasks:\n",
    "        c_count = c_count + task[\"cs\"][i]\n",
    "        e_count = e_count + task[\"ed\"][i]\n",
    "        \n",
    "    c_sums.append(c_count)\n",
    "    e_sums.append(e_count)\n",
    "    \n",
    "totals[\"cs\"] = c_sums\n",
    "totals[\"ed\"] = e_sums\n",
    "\n",
    "totals"
   ]
  },
  {
   "cell_type": "code",
   "execution_count": 53,
   "metadata": {},
   "outputs": [
    {
     "data": {
      "text/html": [
       "<div>\n",
       "<style scoped>\n",
       "    .dataframe tbody tr th:only-of-type {\n",
       "        vertical-align: middle;\n",
       "    }\n",
       "\n",
       "    .dataframe tbody tr th {\n",
       "        vertical-align: top;\n",
       "    }\n",
       "\n",
       "    .dataframe thead th {\n",
       "        text-align: right;\n",
       "    }\n",
       "</style>\n",
       "<table border=\"1\" class=\"dataframe\">\n",
       "  <thead>\n",
       "    <tr style=\"text-align: right;\">\n",
       "      <th></th>\n",
       "      <th>cs</th>\n",
       "      <th>ed</th>\n",
       "    </tr>\n",
       "  </thead>\n",
       "  <tbody>\n",
       "    <tr>\n",
       "      <th>I</th>\n",
       "      <td>0</td>\n",
       "      <td>1</td>\n",
       "    </tr>\n",
       "    <tr>\n",
       "      <th>S</th>\n",
       "      <td>0</td>\n",
       "      <td>4</td>\n",
       "    </tr>\n",
       "    <tr>\n",
       "      <th>F</th>\n",
       "      <td>21</td>\n",
       "      <td>37</td>\n",
       "    </tr>\n",
       "    <tr>\n",
       "      <th>C</th>\n",
       "      <td>39</td>\n",
       "      <td>78</td>\n",
       "    </tr>\n",
       "  </tbody>\n",
       "</table>\n",
       "</div>"
      ],
      "text/plain": [
       "   cs  ed\n",
       "I   0   1\n",
       "S   0   4\n",
       "F  21  37\n",
       "C  39  78"
      ]
     },
     "execution_count": 53,
     "metadata": {},
     "output_type": "execute_result"
    }
   ],
   "source": [
    "df = pd.DataFrame(data=totals).rename({0:\"I\", 1:\"S\", 2:\"F\", 3:\"C\"})\n",
    "df"
   ]
  },
  {
   "cell_type": "markdown",
   "metadata": {},
   "source": [
    "Next, we need to make the contingency tables in the 2x2 format needed for the Fisher test."
   ]
  },
  {
   "cell_type": "code",
   "execution_count": 54,
   "metadata": {},
   "outputs": [
    {
     "data": {
      "text/plain": [
       "[{'cs': [0, 60], 'ed': [1, 119]},\n",
       " {'cs': [0, 60], 'ed': [5, 115]},\n",
       " {'cs': [21, 39], 'ed': [42, 78]}]"
      ]
     },
     "execution_count": 54,
     "metadata": {},
     "output_type": "execute_result"
    }
   ],
   "source": [
    "table_list = []\n",
    "\n",
    "for i in range(1, len(df.index)):\n",
    "    table = {}\n",
    "    \n",
    "    col = df[\"cs\"]\n",
    "    col2 = df[\"ed\"]\n",
    "\n",
    "    table[\"cs\"] = [col.iloc[:i].sum(), col.iloc[i:].sum()]\n",
    "    table[\"ed\"] = [col2.iloc[:i].sum(), col2.iloc[i:].sum()]\n",
    "\n",
    "    table_list.append(table)\n",
    "        \n",
    "table_list"
   ]
  },
  {
   "cell_type": "code",
   "execution_count": 55,
   "metadata": {},
   "outputs": [
    {
     "data": {
      "text/plain": [
       "[    cs   ed\n",
       " =I   0    1\n",
       " >I  60  119,\n",
       "      cs   ed\n",
       " <=S   0    5\n",
       " >S   60  115,\n",
       "      cs  ed\n",
       " <=F  21  42\n",
       " >F   39  78]"
      ]
     },
     "execution_count": 55,
     "metadata": {},
     "output_type": "execute_result"
    }
   ],
   "source": [
    "df_list = []\n",
    "\n",
    "for i in range(len(table_list)):\n",
    "    temp = pd.DataFrame(table_list[i])\n",
    "    \n",
    "    if i == 0:\n",
    "        temp = temp.rename({0: \"=I\", 1:\">I\"})\n",
    "    elif i == 1:\n",
    "        temp = temp.rename({0: \"<=S\", 1:\">S\"})\n",
    "    else:\n",
    "        temp = temp.rename({0: \"<=F\", 1:\">F\"})\n",
    "        \n",
    "    df_list.append(temp)\n",
    "        \n",
    "df_list"
   ]
  },
  {
   "cell_type": "markdown",
   "metadata": {},
   "source": [
    "Now, we can actually run the test!"
   ]
  },
  {
   "cell_type": "code",
   "execution_count": 56,
   "metadata": {},
   "outputs": [
    {
     "data": {
      "text/plain": [
       "[1.0, 0.17097501916408664, 1.0]"
      ]
     },
     "execution_count": 56,
     "metadata": {},
     "output_type": "execute_result"
    }
   ],
   "source": [
    "p_values = []\n",
    "for df in df_list:\n",
    "    oddsration, p_value = stats.fisher_exact(df)\n",
    "    p_values.append(p_value)\n",
    "    \n",
    "p_values"
   ]
  },
  {
   "cell_type": "code",
   "execution_count": 57,
   "metadata": {},
   "outputs": [
    {
     "data": {
      "text/plain": [
       "(array([False, False, False]),\n",
       " array([1.        , 0.51292506, 1.        ]),\n",
       " 0.016952427508441503,\n",
       " 0.016666666666666666)"
      ]
     },
     "execution_count": 57,
     "metadata": {},
     "output_type": "execute_result"
    }
   ],
   "source": [
    "sm.stats.multipletests(p_values, method=\"holm\")"
   ]
  },
  {
   "cell_type": "markdown",
   "metadata": {},
   "source": [
    "#### Successful Response ####"
   ]
  },
  {
   "cell_type": "markdown",
   "metadata": {},
   "source": [
    "First, we need to make a table of the counts by success and major"
   ]
  },
  {
   "cell_type": "code",
   "execution_count": 58,
   "metadata": {},
   "outputs": [],
   "source": [
    "cs = cs_df[[\"t1_isSuccess\",\"t2_isSuccess\",\"t3_isSuccess\",\"t4_isSuccess\",\"t5_isSuccess\",\"t6_isSuccess\",\"t7_isSuccess\",\"t8_isSuccess\",\"t9_isSuccess\",\"t10_isSuccess\"]]\n",
    "ed = ed_df[[\"t1_isSuccess\",\"t2_isSuccess\",\"t3_isSuccess\",\"t4_isSuccess\",\"t5_isSuccess\",\"t6_isSuccess\",\"t7_isSuccess\",\"t8_isSuccess\",\"t9_isSuccess\",\"t10_isSuccess\"]]"
   ]
  },
  {
   "cell_type": "code",
   "execution_count": 59,
   "metadata": {},
   "outputs": [
    {
     "data": {
      "text/plain": [
       "[{'cs': [0, 6], 'ed': [0, 12]},\n",
       " {'cs': [0, 6], 'ed': [0, 12]},\n",
       " {'cs': [0, 6], 'ed': [0, 12]},\n",
       " {'cs': [0, 6], 'ed': [0, 12]},\n",
       " {'cs': [0, 6], 'ed': [1, 11]},\n",
       " {'cs': [0, 6], 'ed': [1, 11]},\n",
       " {'cs': [0, 6], 'ed': [0, 12]},\n",
       " {'cs': [0, 6], 'ed': [0, 12]},\n",
       " {'cs': [1, 5], 'ed': [2, 10]},\n",
       " {'cs': [0, 6], 'ed': [0, 12]}]"
      ]
     },
     "execution_count": 59,
     "metadata": {},
     "output_type": "execute_result"
    }
   ],
   "source": [
    "responses = []\n",
    "\n",
    "for label in [\"t1_isSuccess\",\"t2_isSuccess\",\"t3_isSuccess\",\"t4_isSuccess\",\"t5_isSuccess\",\"t6_isSuccess\",\"t7_isSuccess\",\"t8_isSuccess\",\"t9_isSuccess\",\"t10_isSuccess\"]:\n",
    "    r = {}\n",
    "    \n",
    "    c_row = []\n",
    "    e_row = []\n",
    "    \n",
    "    c= cs[label].value_counts()\n",
    "    e= ed[label].value_counts()\n",
    "    \n",
    "    for val in [False, True]:\n",
    "        if val in c.index:\n",
    "            c_row.append(c[val])\n",
    "        else:\n",
    "            c_row.append(0)\n",
    "\n",
    "        if val in e.index:\n",
    "            e_row.append(e[val])\n",
    "        else:\n",
    "            e_row.append(0)\n",
    "            \n",
    "    r[\"cs\"] = c_row\n",
    "    r[\"ed\"] = e_row\n",
    "    \n",
    "    responses.append(r)\n",
    "    \n",
    "responses"
   ]
  },
  {
   "cell_type": "code",
   "execution_count": 60,
   "metadata": {},
   "outputs": [
    {
     "data": {
      "text/plain": [
       "{'cs': [1, 59], 'ed': [4, 116]}"
      ]
     },
     "execution_count": 60,
     "metadata": {},
     "output_type": "execute_result"
    }
   ],
   "source": [
    "totals = {}\n",
    "\n",
    "c_sums = []\n",
    "e_sums = []\n",
    "\n",
    "for i in range(2):\n",
    "    c_count = 0\n",
    "    e_count = 0\n",
    "    \n",
    "    for response in responses:\n",
    "        c_count = c_count + response[\"cs\"][i]\n",
    "        e_count = e_count + response[\"ed\"][i]\n",
    "        \n",
    "    c_sums.append(c_count)\n",
    "    e_sums.append(e_count)\n",
    "    \n",
    "totals[\"cs\"] = c_sums\n",
    "totals[\"ed\"] = e_sums\n",
    "\n",
    "totals"
   ]
  },
  {
   "cell_type": "code",
   "execution_count": 61,
   "metadata": {},
   "outputs": [
    {
     "data": {
      "text/html": [
       "<div>\n",
       "<style scoped>\n",
       "    .dataframe tbody tr th:only-of-type {\n",
       "        vertical-align: middle;\n",
       "    }\n",
       "\n",
       "    .dataframe tbody tr th {\n",
       "        vertical-align: top;\n",
       "    }\n",
       "\n",
       "    .dataframe thead th {\n",
       "        text-align: right;\n",
       "    }\n",
       "</style>\n",
       "<table border=\"1\" class=\"dataframe\">\n",
       "  <thead>\n",
       "    <tr style=\"text-align: right;\">\n",
       "      <th></th>\n",
       "      <th>cs</th>\n",
       "      <th>ed</th>\n",
       "    </tr>\n",
       "  </thead>\n",
       "  <tbody>\n",
       "    <tr>\n",
       "      <th>False</th>\n",
       "      <td>1</td>\n",
       "      <td>4</td>\n",
       "    </tr>\n",
       "    <tr>\n",
       "      <th>True</th>\n",
       "      <td>59</td>\n",
       "      <td>116</td>\n",
       "    </tr>\n",
       "  </tbody>\n",
       "</table>\n",
       "</div>"
      ],
      "text/plain": [
       "       cs   ed\n",
       "False   1    4\n",
       "True   59  116"
      ]
     },
     "execution_count": 61,
     "metadata": {},
     "output_type": "execute_result"
    }
   ],
   "source": [
    "df = pd.DataFrame(data=totals).rename({0:\"False\", 1:\"True\"})\n",
    "df"
   ]
  },
  {
   "cell_type": "markdown",
   "metadata": {},
   "source": [
    "Since the data is already in a 2x2 table, we can run the test directly."
   ]
  },
  {
   "cell_type": "code",
   "execution_count": 62,
   "metadata": {},
   "outputs": [
    {
     "data": {
      "text/plain": [
       "0.6661264582298831"
      ]
     },
     "execution_count": 62,
     "metadata": {},
     "output_type": "execute_result"
    }
   ],
   "source": [
    "oddsratio, p_value = stats.fisher_exact(df)\n",
    "p_value"
   ]
  }
 ],
 "metadata": {
  "kernelspec": {
   "display_name": "Python 3",
   "language": "python",
   "name": "python3"
  },
  "language_info": {
   "codemirror_mode": {
    "name": "ipython",
    "version": 3
   },
   "file_extension": ".py",
   "mimetype": "text/x-python",
   "name": "python",
   "nbconvert_exporter": "python",
   "pygments_lexer": "ipython3",
   "version": "3.8.3"
  }
 },
 "nbformat": 4,
 "nbformat_minor": 4
}
